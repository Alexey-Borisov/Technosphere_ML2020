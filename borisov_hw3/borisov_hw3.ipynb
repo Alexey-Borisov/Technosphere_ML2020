{
 "cells": [
  {
   "cell_type": "markdown",
   "metadata": {},
   "source": [
    "### Алгоритмы интеллектуальной обработки больших объемов данных\n",
    "## Домашнее задание №3 - Дерево решений\n"
   ]
  },
  {
   "cell_type": "markdown",
   "metadata": {},
   "source": [
    "**Общая информация**\n",
    "\n",
    "**Срок сдачи:** 08 декабря 2020, 08:30   \n",
    "**Штраф за опоздание:** -2 балла после 08:30 08 декабря, -4 балла после 08:30 15 декабря, -6 баллов после 08:30 22 декабря, -8 баллов после 08:30 29 декабря.\n",
    "\n",
    "При отправлении ДЗ указывайте фамилию в названии файла Присылать ДЗ необходимо в виде ссылки на свой github репозиторий на почту ml1.sphere@mail.ru с указанием темы в следующем формате:\n",
    "[ML0220, Задание 3] Фамилия Имя. \n",
    "\n",
    "\n",
    "Используйте данный Ipython Notebook при оформлении домашнего задания."
   ]
  },
  {
   "cell_type": "markdown",
   "metadata": {},
   "source": [
    "##  Реализуем дерево решений (3 балла)"
   ]
  },
  {
   "cell_type": "markdown",
   "metadata": {},
   "source": [
    "Допишите недостающие части дерева решений. Ваша реализация дерева должна работать по точности не хуже DecisionTreeClassifier из sklearn.\n",
    "Внимание: если Вас не устраивает предложенная структура хранения дерева, Вы без потери баллов можете сделать свой класс DecisionTreeClassifier, в котором сами полностью воспроизведете алгоритм дерева решений. Обязательно в нем иметь только функции fit, predict"
   ]
  },
  {
   "cell_type": "code",
   "execution_count": 527,
   "metadata": {},
   "outputs": [],
   "source": [
    "import matplotlib.pyplot as plt\n",
    "import numpy as np\n",
    "import pandas as pd\n",
    "\n",
    "from sklearn.datasets import load_wine\n",
    "from sklearn.ensemble import RandomForestClassifier\n",
    "from sklearn.metrics import accuracy_score\n",
    "from sklearn.base import BaseEstimator\n",
    "from sklearn.model_selection import KFold, train_test_split, GridSearchCV, RandomizedSearchCV\n",
    "from sklearn.tree import DecisionTreeClassifier\n"
   ]
  },
  {
   "cell_type": "code",
   "execution_count": 529,
   "metadata": {},
   "outputs": [],
   "source": [
    "class MyDecisionTreeClassifier(BaseEstimator):\n",
    "    NON_LEAF_TYPE = 0\n",
    "    LEAF_TYPE = 1\n",
    "\n",
    "    def __init__(self, min_samples_split=2, min_Q_split=0.0001, feature_linspace=20, max_depth=5, criterion='gini'):\n",
    "        \"\"\"\n",
    "        criterion -- критерий расщепления. необходимо релизовать три:\n",
    "        Ошибка классификации, Индекс Джини, Энтропийный критерий\n",
    "        max_depth -- максимальная глубина дерева\n",
    "        min_samples_split -- минимальное число объектов в листе, чтобы сделать новый сплит\n",
    "        \"\"\"\n",
    "        self.min_samples_split = min_samples_split\n",
    "        self.min_Q_split = min_Q_split\n",
    "        self.feature_linspace = feature_linspace\n",
    "        self.max_depth = max_depth\n",
    "        self.num_class = -1\n",
    "        # Для последнего задания\n",
    "        self.feature_importances = dict()\n",
    "        \n",
    "        # Сразу определяем нужный критерий информативности\n",
    "        if criterion == 'error':\n",
    "            self.F = error\n",
    "        elif criterion == 'entropy':\n",
    "            self.F = entropy\n",
    "        else:\n",
    "            self.F = gini\n",
    "        # Структура, которая описывает дерево\n",
    "        # Представляет словарь, где для  node_id (айдишник узла дерева) храним\n",
    "        # (тип_узла, айдишник признака сплита, порог сплита) если тип NON_LEAF_TYPE\n",
    "        # (тип_узла, предсказание класса, вероятность класса) если тип LEAF_TYPE\n",
    "        # Подразумевается, что у каждого node_id в дереве слева \n",
    "        # узел с айди 2 * node_id + 1, а справа 2 * node_id + 2\n",
    "        self.tree = dict()\n",
    "\n",
    "    def __div_samples(self, x, y, feature_id, threshold):\n",
    "        \"\"\"\n",
    "        Разделяет объекты на 2 множества\n",
    "        x -- матрица объектов\n",
    "        y -- вектор ответов\n",
    "        feature_id -- айдишник признака, по которому делаем сплит\n",
    "        threshold -- порог, по которому делаем сплит\n",
    "        \"\"\"\n",
    "        left_mask = x[:, feature_id] > threshold\n",
    "        right_mask = ~left_mask\n",
    "        return x[left_mask], x[right_mask], y[left_mask], y[right_mask]\n",
    "    \n",
    "    def __div_samples_only_y(self, x, y, feature_id, threshold):\n",
    "        \"\"\"\n",
    "        Разделяет объекты на 2 множества\n",
    "        x -- матрица объектов\n",
    "        y -- вектор ответов\n",
    "        feature_id -- айдишник признака, по которому делаем сплит\n",
    "        threshold -- порог, по которому делаем сплит\n",
    "        \"\"\"\n",
    "        left_mask = x[:, feature_id] > threshold\n",
    "        right_mask = ~left_mask\n",
    "        return y[left_mask], y[right_mask]\n",
    "\n",
    "    def __find_threshold(self, x, y):\n",
    "        \"\"\"\n",
    "        Находим оптимальный признак и порог для сплита\n",
    "        Здесь используемые разные impurity в зависимости от self.criterion\n",
    "        \"\"\"\n",
    "        max_Q = -np.inf\n",
    "        best_feature = None\n",
    "        best_threshold = None\n",
    "        for feature_id in range(x.shape[1]):\n",
    "            min_val = x[:, feature_id].min()\n",
    "            max_val = x[:, feature_id].max()\n",
    "            thresholds = np.linspace(start=min_val, stop=max_val, num=self.feature_linspace)[:-1]\n",
    "            for threshold in thresholds:\n",
    "                cur_Q = self.Q(x, y, feature_id, threshold)\n",
    "                if cur_Q > max_Q:\n",
    "                    max_Q = cur_Q\n",
    "                    best_feature = feature_id\n",
    "                    best_threshold = threshold\n",
    "        if best_feature not in self.feature_importances:\n",
    "            self.feature_importances[best_feature] = max_Q\n",
    "        else:\n",
    "            self.feature_importances[best_feature] += max_Q\n",
    "        return best_feature, best_threshold, max_Q\n",
    "\n",
    "    def __fit_node(self, x, y, node_id, depth):\n",
    "        \"\"\"\n",
    "        Делаем новый узел в дереве\n",
    "        Решаем, терминальный он или нет\n",
    "        Если нет, то строим левый узел  с айди 2 * node_id + 1\n",
    "        И правый узел с  айди 2 * node_id + 2\n",
    "        \"\"\"\n",
    "        # Проверяем различные критерии останова\n",
    "        if depth <= self.max_depth and x.shape[0] >= self.min_samples_split and np.unique(y).shape[0] != 1:\n",
    "            split_info = self.__find_threshold(x, y)\n",
    "            # При малом максимальном Q делаем вершину листовой\n",
    "            if split_info[2] < self.min_Q_split:\n",
    "                class_distr = np.bincount(y)\n",
    "                most_prob_class = class_distr.argmax()\n",
    "                class_prob = class_distr[most_prob_class] / y.shape[0]\n",
    "                self.tree[node_id] = (self.LEAF_TYPE, most_prob_class, class_prob)\n",
    "                return\n",
    "            self.tree[node_id] = (self.NON_LEAF_TYPE, split_info[0], split_info[1])\n",
    "            div = self.__div_samples(x, y, split_info[0], split_info[1])\n",
    "            self.__fit_node(div[0], div[2], 2 * node_id + 1, depth + 1)\n",
    "            self.__fit_node(div[1], div[3], 2 * node_id + 2, depth + 1)\n",
    "        else:\n",
    "            class_distr = np.bincount(y)\n",
    "            most_prob_class = class_distr.argmax()\n",
    "            class_prob = class_distr[most_prob_class] / y.shape[0]\n",
    "            self.tree[node_id] = (self.LEAF_TYPE, most_prob_class, class_prob)\n",
    "    \n",
    "    def fit(self, x, y):\n",
    "        \"\"\"\n",
    "        Рекурсивно строим дерево решений\n",
    "        Начинаем с корня node_id 0\n",
    "        \"\"\"\n",
    "        self.num_class = np.unique(y).size\n",
    "        self.__fit_node(x, y, 0, 0) \n",
    "\n",
    "    def __predict_class(self, x, node_id):\n",
    "        \"\"\"\n",
    "        Рекурсивно обходим дерево по всем узлам,\n",
    "        пока не дойдем до терминального\n",
    "        \"\"\"\n",
    "        node = self.tree[node_id]\n",
    "        if node[0] == self.__class__.NON_LEAF_TYPE:\n",
    "            _, feature_id, threshold = node\n",
    "            if x[feature_id] > threshold:\n",
    "                return self.__predict_class(x, 2 * node_id + 1)\n",
    "            else:\n",
    "                return self.__predict_class(x, 2 * node_id + 2)\n",
    "        else:\n",
    "            return node[1]\n",
    "        \n",
    "    def predict(self, X):\n",
    "        \"\"\"\n",
    "        Вызывает predict для всех объектов из матрицы X\n",
    "        \"\"\"\n",
    "        return np.array([self.__predict_class(x, 0) for x in X])\n",
    "    \n",
    "    def fit_predict(self, x_train, y_train, predicted_x):\n",
    "        self.fit(x_train, y_train)\n",
    "        return self.predict(predicted_x)\n",
    "    \n",
    "    def get_feature_importance(self):\n",
    "        \"\"\"\n",
    "        Возвращает важность признаков\n",
    "        \"\"\"\n",
    "        values = np.array(list(self.feature_importances.values()))\n",
    "        features = np.array(list(self.feature_importances.keys()))\n",
    "        arg = np.argsort(values)\n",
    "        features = features[arg][::-1]\n",
    "        values = values[arg][::-1]\n",
    "        return features, values\n",
    "    \n",
    "    # Функция считающая критерий информативности\n",
    "    def Q(self, x, y, feature_id, threshold):\n",
    "        div = self.__div_samples_only_y(x, y, feature_id, threshold)\n",
    "        if div[0].shape[0] == 0 or div[1].shape[0] == 0:\n",
    "            return -np.inf\n",
    "        return self.F(y) - div[0].shape[0] / y.shape[0] * self.F(div[0]) - div[1].shape[0] / y.shape[0] * self.F(div[1])\n",
    "\n",
    "# Функции реализующие соответствующие критерии информативности\n",
    "def error(y):\n",
    "    return 1 - np.bincount(y).max() / y.shape[0]\n",
    "\n",
    "def gini(y):\n",
    "    probabilities = np.bincount(y) / y.shape[0]\n",
    "    return 1  - (probabilities**2).sum()\n",
    "\n",
    "def entropy(y):\n",
    "    probabilities = np.bincount(y) / y.shape[0]\n",
    "    probabilities[probabilities == 0] = 0.000001\n",
    "    return -(probabilities * np.log(probabilities)).sum()"
   ]
  },
  {
   "cell_type": "code",
   "execution_count": 610,
   "metadata": {},
   "outputs": [],
   "source": [
    "my_clf = MyDecisionTreeClassifier(min_samples_split=2, min_Q_split=0.16, feature_linspace=4)\n",
    "clf = DecisionTreeClassifier(min_samples_split=2)"
   ]
  },
  {
   "cell_type": "code",
   "execution_count": 611,
   "metadata": {},
   "outputs": [],
   "source": [
    "wine = load_wine()\n",
    "X_train, X_test, y_train, y_test = train_test_split(wine.data, wine.target, test_size=0.1, stratify=wine.target)"
   ]
  },
  {
   "cell_type": "code",
   "execution_count": 612,
   "metadata": {},
   "outputs": [
    {
     "data": {
      "text/plain": [
       "5"
      ]
     },
     "execution_count": 612,
     "metadata": {},
     "output_type": "execute_result"
    }
   ],
   "source": [
    "my_clf.fit(X_train, y_train)\n",
    "clf.fit(X_train, y_train)\n",
    "len(my_clf.tree)"
   ]
  },
  {
   "cell_type": "code",
   "execution_count": 589,
   "metadata": {},
   "outputs": [
    {
     "name": "stdout",
     "output_type": "stream",
     "text": [
      "SKLEARN SCORE: 0.7777777777777778\n",
      "MY SCORE: 0.8333333333333334\n"
     ]
    }
   ],
   "source": [
    "print(\"SKLEARN SCORE:\", accuracy_score(y_pred=clf.predict(X_test), y_true=y_test))\n",
    "print(\"MY SCORE:\", accuracy_score(y_pred=my_clf.predict(X_test), y_true=y_test))"
   ]
  },
  {
   "cell_type": "markdown",
   "metadata": {},
   "source": [
    "Проведу множество испытаний, чтобы убедиться в том, что моя реализация не уступает DecisionTreeClassifier из sklearn."
   ]
  },
  {
   "cell_type": "code",
   "execution_count": 469,
   "metadata": {},
   "outputs": [
    {
     "name": "stdout",
     "output_type": "stream",
     "text": [
      "SKLEARN MEAN SCORE: 0.8983333333333333\n",
      "MY MEAN SCORE: 0.901111111111111\n"
     ]
    }
   ],
   "source": [
    "N = 100\n",
    "\n",
    "sklearn_scores = np.zeros(N)\n",
    "my_scores = np.zeros(N)\n",
    "\n",
    "for i in range(N):\n",
    "    my_clf = MyDecisionTreeClassifier(min_samples_split=2, min_Q_split=0.16, feature_linspace=4)\n",
    "    clf = DecisionTreeClassifier(min_samples_split=2)\n",
    "    X_train, X_test, y_train, y_test = train_test_split(wine.data, wine.target, test_size=0.1, stratify=wine.target)\n",
    "    my_clf.fit(X_train, y_train)\n",
    "    clf.fit(X_train, y_train)\n",
    "    sklearn_scores[i] = accuracy_score(y_pred=clf.predict(X_test), y_true=y_test)\n",
    "    my_scores[i] = accuracy_score(y_pred=my_clf.predict(X_test), y_true=y_test)\n",
    "\n",
    "print(\"SKLEARN MEAN SCORE:\", sklearn_scores.mean())\n",
    "print(\"MY MEAN SCORE:\", my_scores.mean())   "
   ]
  },
  {
   "cell_type": "markdown",
   "metadata": {},
   "source": [
    "## Ускоряем дерево решений (2 балла)\n",
    "Добиться скорости работы на fit не медленнее чем в 10 раз sklearn на данных wine. \n",
    "Для этого используем numpy."
   ]
  },
  {
   "cell_type": "markdown",
   "metadata": {},
   "source": [
    "Скорость работы fit'а напрямую зависит от числа вершин в дереве, и в зависимости от числа вершин моя реализация работает в 10-15 раз медленнее sklearn реализации. "
   ]
  },
  {
   "cell_type": "code",
   "execution_count": 614,
   "metadata": {
    "scrolled": true
   },
   "outputs": [
    {
     "name": "stdout",
     "output_type": "stream",
     "text": [
      "642 µs ± 3.92 µs per loop (mean ± std. dev. of 7 runs, 1000 loops each)\n"
     ]
    }
   ],
   "source": [
    "%timeit clf.fit(X_train, y_train)"
   ]
  },
  {
   "cell_type": "code",
   "execution_count": 613,
   "metadata": {
    "scrolled": true
   },
   "outputs": [
    {
     "name": "stdout",
     "output_type": "stream",
     "text": [
      "7.75 ms ± 56.4 µs per loop (mean ± std. dev. of 7 runs, 100 loops each)\n"
     ]
    }
   ],
   "source": [
    "%timeit my_clf.fit(X_train, y_train)"
   ]
  },
  {
   "cell_type": "code",
   "execution_count": 615,
   "metadata": {},
   "outputs": [
    {
     "data": {
      "text/plain": [
       "5"
      ]
     },
     "execution_count": 615,
     "metadata": {},
     "output_type": "execute_result"
    }
   ],
   "source": [
    "len(my_clf.tree)"
   ]
  },
  {
   "cell_type": "markdown",
   "metadata": {},
   "source": [
    "## Боевое применение (3 балла)\n",
    "\n",
    "На практике Вы познакомились с датасетом Speed Dating Data. В нем каждая пара в быстрых свиданиях характеризуется определенным набором признаков. Задача -- предсказать, произойдет ли матч пары (колонка match). \n",
    "\n",
    "Пример работы с датасетом можете найти в практике пункт 2\n",
    "https://github.com/VVVikulin/ml1.sphere/blob/master/2019-09/lecture_06/pract-trees.ipynb\n",
    "\n",
    "Данные и описания колонок лежат тут\n",
    "https://cloud.mail.ru/public/8nHV/p6J7wY1y1/speed-dating-experiment/"
   ]
  },
  {
   "cell_type": "markdown",
   "metadata": {},
   "source": [
    "Скачайте датасет, обработайте данные, как показано на семинаре или своим собственным способом. Обучите дерево классифкации. В качестве таргета возьмите колонку 'match'. Постарайтесь хорошо обработать признаки, чтобы выбить максимальную точность. Если точность будет близка к случайному гаданию, задание не будет защитано. \n"
   ]
  },
  {
   "cell_type": "code",
   "execution_count": 647,
   "metadata": {},
   "outputs": [],
   "source": [
    "df = pd.read_csv(\"Speed Dating Data.csv\", encoding='latin1')"
   ]
  },
  {
   "cell_type": "markdown",
   "metadata": {},
   "source": [
    "Буду добавлять признаки, которые считаю значимыми."
   ]
  },
  {
   "cell_type": "code",
   "execution_count": 648,
   "metadata": {},
   "outputs": [],
   "source": [
    "my_df = pd.DataFrame()\n",
    "\n",
    "my_df['iid'] = df.iid.fillna(0)\n",
    "\n",
    "my_df['pid'] = df.pid.fillna(0)\n",
    "\n",
    "my_df['gender'] = df.gender\n",
    "\n",
    "my_df['int_corr'] = df.int_corr.fillna(0)\n",
    "\n",
    "my_df['samerace'] = df.samerace\n",
    "\n",
    "my_df['age'] = df.age.fillna(df.age.mean())\n",
    "\n",
    "my_df['diff_age'] = my_df.age - df.age_o.fillna(df.age.mean())\n",
    "\n",
    "my_df['imprace'] = df.imprace.fillna(df.imprace.mean())\n",
    "\n",
    "my_df['imprelig'] = df.imprelig.fillna(df.imprelig.mean())\n",
    "\n",
    "my_df['date'] = df.date.fillna(df.date.mean())\n",
    "\n",
    "my_df['go_out'] = df.go_out.fillna(df.go_out.mean())\n",
    "\n",
    "my_df['exphappy'] = df.exphappy.fillna(df.exphappy.mean())\n",
    "\n",
    "my_df['dec'] = df.dec\n",
    "\n",
    "my_df['attr'] = df.attr.fillna(df.attr.mean())\n",
    "my_df['sinc'] = df.sinc.fillna(df.sinc.mean())\n",
    "my_df['intel'] = df.intel.fillna(df.intel.mean())\n",
    "my_df['fun'] = df.fun.fillna(df.fun.mean())\n",
    "my_df['amb'] = df.amb.fillna(df.amb.mean())\n",
    "my_df['shar'] = df.shar.fillna(df.shar.mean())\n",
    "my_df['like'] = df.like.fillna(df.like.mean())\n",
    "\n",
    "my_df['prob'] = df.prob.fillna(df.prob.mean())\n",
    "\n",
    "my_df['met'] = df.met.fillna(0)\n",
    "\n",
    "my_df['match_es'] = df.match_es.fillna(0)\n",
    "\n",
    "my_df['satis_2'] = df.satis_2.fillna(df.satis_2.mean())\n",
    "\n",
    "my_df['you_call'] = df.you_call.fillna(df.you_call.mean())\n",
    "\n",
    "my_df['them_cal'] = df.them_cal.fillna(df.them_cal.mean())\n",
    "\n",
    "my_df['target'] = df.match"
   ]
  },
  {
   "cell_type": "code",
   "execution_count": 649,
   "metadata": {},
   "outputs": [
    {
     "data": {
      "text/html": [
       "<div>\n",
       "<style scoped>\n",
       "    .dataframe tbody tr th:only-of-type {\n",
       "        vertical-align: middle;\n",
       "    }\n",
       "\n",
       "    .dataframe tbody tr th {\n",
       "        vertical-align: top;\n",
       "    }\n",
       "\n",
       "    .dataframe thead th {\n",
       "        text-align: right;\n",
       "    }\n",
       "</style>\n",
       "<table border=\"1\" class=\"dataframe\">\n",
       "  <thead>\n",
       "    <tr style=\"text-align: right;\">\n",
       "      <th></th>\n",
       "      <th>iid</th>\n",
       "      <th>pid</th>\n",
       "      <th>gender</th>\n",
       "      <th>int_corr</th>\n",
       "      <th>samerace</th>\n",
       "      <th>age</th>\n",
       "      <th>diff_age</th>\n",
       "      <th>imprace</th>\n",
       "      <th>imprelig</th>\n",
       "      <th>date</th>\n",
       "      <th>...</th>\n",
       "      <th>amb</th>\n",
       "      <th>shar</th>\n",
       "      <th>like</th>\n",
       "      <th>prob</th>\n",
       "      <th>met</th>\n",
       "      <th>match_es</th>\n",
       "      <th>satis_2</th>\n",
       "      <th>you_call</th>\n",
       "      <th>them_cal</th>\n",
       "      <th>target</th>\n",
       "    </tr>\n",
       "  </thead>\n",
       "  <tbody>\n",
       "    <tr>\n",
       "      <th>0</th>\n",
       "      <td>1</td>\n",
       "      <td>11.0</td>\n",
       "      <td>0</td>\n",
       "      <td>0.14</td>\n",
       "      <td>0</td>\n",
       "      <td>21.0</td>\n",
       "      <td>-6.0</td>\n",
       "      <td>2.0</td>\n",
       "      <td>4.0</td>\n",
       "      <td>7.0</td>\n",
       "      <td>...</td>\n",
       "      <td>6.000000</td>\n",
       "      <td>5.000000</td>\n",
       "      <td>7.0</td>\n",
       "      <td>6.000000</td>\n",
       "      <td>2.0</td>\n",
       "      <td>4.0</td>\n",
       "      <td>6.0</td>\n",
       "      <td>1.0</td>\n",
       "      <td>1.0</td>\n",
       "      <td>0</td>\n",
       "    </tr>\n",
       "    <tr>\n",
       "      <th>1</th>\n",
       "      <td>1</td>\n",
       "      <td>12.0</td>\n",
       "      <td>0</td>\n",
       "      <td>0.54</td>\n",
       "      <td>0</td>\n",
       "      <td>21.0</td>\n",
       "      <td>-1.0</td>\n",
       "      <td>2.0</td>\n",
       "      <td>4.0</td>\n",
       "      <td>7.0</td>\n",
       "      <td>...</td>\n",
       "      <td>5.000000</td>\n",
       "      <td>6.000000</td>\n",
       "      <td>7.0</td>\n",
       "      <td>5.000000</td>\n",
       "      <td>1.0</td>\n",
       "      <td>4.0</td>\n",
       "      <td>6.0</td>\n",
       "      <td>1.0</td>\n",
       "      <td>1.0</td>\n",
       "      <td>0</td>\n",
       "    </tr>\n",
       "    <tr>\n",
       "      <th>2</th>\n",
       "      <td>1</td>\n",
       "      <td>13.0</td>\n",
       "      <td>0</td>\n",
       "      <td>0.16</td>\n",
       "      <td>1</td>\n",
       "      <td>21.0</td>\n",
       "      <td>-1.0</td>\n",
       "      <td>2.0</td>\n",
       "      <td>4.0</td>\n",
       "      <td>7.0</td>\n",
       "      <td>...</td>\n",
       "      <td>5.000000</td>\n",
       "      <td>7.000000</td>\n",
       "      <td>7.0</td>\n",
       "      <td>5.207523</td>\n",
       "      <td>1.0</td>\n",
       "      <td>4.0</td>\n",
       "      <td>6.0</td>\n",
       "      <td>1.0</td>\n",
       "      <td>1.0</td>\n",
       "      <td>1</td>\n",
       "    </tr>\n",
       "    <tr>\n",
       "      <th>3</th>\n",
       "      <td>1</td>\n",
       "      <td>14.0</td>\n",
       "      <td>0</td>\n",
       "      <td>0.61</td>\n",
       "      <td>0</td>\n",
       "      <td>21.0</td>\n",
       "      <td>-2.0</td>\n",
       "      <td>2.0</td>\n",
       "      <td>4.0</td>\n",
       "      <td>7.0</td>\n",
       "      <td>...</td>\n",
       "      <td>6.000000</td>\n",
       "      <td>8.000000</td>\n",
       "      <td>7.0</td>\n",
       "      <td>6.000000</td>\n",
       "      <td>2.0</td>\n",
       "      <td>4.0</td>\n",
       "      <td>6.0</td>\n",
       "      <td>1.0</td>\n",
       "      <td>1.0</td>\n",
       "      <td>1</td>\n",
       "    </tr>\n",
       "    <tr>\n",
       "      <th>4</th>\n",
       "      <td>1</td>\n",
       "      <td>15.0</td>\n",
       "      <td>0</td>\n",
       "      <td>0.21</td>\n",
       "      <td>0</td>\n",
       "      <td>21.0</td>\n",
       "      <td>-3.0</td>\n",
       "      <td>2.0</td>\n",
       "      <td>4.0</td>\n",
       "      <td>7.0</td>\n",
       "      <td>...</td>\n",
       "      <td>6.000000</td>\n",
       "      <td>6.000000</td>\n",
       "      <td>6.0</td>\n",
       "      <td>6.000000</td>\n",
       "      <td>2.0</td>\n",
       "      <td>4.0</td>\n",
       "      <td>6.0</td>\n",
       "      <td>1.0</td>\n",
       "      <td>1.0</td>\n",
       "      <td>1</td>\n",
       "    </tr>\n",
       "    <tr>\n",
       "      <th>...</th>\n",
       "      <td>...</td>\n",
       "      <td>...</td>\n",
       "      <td>...</td>\n",
       "      <td>...</td>\n",
       "      <td>...</td>\n",
       "      <td>...</td>\n",
       "      <td>...</td>\n",
       "      <td>...</td>\n",
       "      <td>...</td>\n",
       "      <td>...</td>\n",
       "      <td>...</td>\n",
       "      <td>...</td>\n",
       "      <td>...</td>\n",
       "      <td>...</td>\n",
       "      <td>...</td>\n",
       "      <td>...</td>\n",
       "      <td>...</td>\n",
       "      <td>...</td>\n",
       "      <td>...</td>\n",
       "      <td>...</td>\n",
       "      <td>...</td>\n",
       "    </tr>\n",
       "    <tr>\n",
       "      <th>8373</th>\n",
       "      <td>552</td>\n",
       "      <td>526.0</td>\n",
       "      <td>1</td>\n",
       "      <td>0.64</td>\n",
       "      <td>0</td>\n",
       "      <td>25.0</td>\n",
       "      <td>-1.0</td>\n",
       "      <td>1.0</td>\n",
       "      <td>1.0</td>\n",
       "      <td>2.0</td>\n",
       "      <td>...</td>\n",
       "      <td>6.777524</td>\n",
       "      <td>5.474559</td>\n",
       "      <td>2.0</td>\n",
       "      <td>5.000000</td>\n",
       "      <td>0.0</td>\n",
       "      <td>3.0</td>\n",
       "      <td>5.0</td>\n",
       "      <td>2.0</td>\n",
       "      <td>0.0</td>\n",
       "      <td>0</td>\n",
       "    </tr>\n",
       "    <tr>\n",
       "      <th>8374</th>\n",
       "      <td>552</td>\n",
       "      <td>527.0</td>\n",
       "      <td>1</td>\n",
       "      <td>0.71</td>\n",
       "      <td>0</td>\n",
       "      <td>25.0</td>\n",
       "      <td>1.0</td>\n",
       "      <td>1.0</td>\n",
       "      <td>1.0</td>\n",
       "      <td>2.0</td>\n",
       "      <td>...</td>\n",
       "      <td>4.000000</td>\n",
       "      <td>5.474559</td>\n",
       "      <td>4.0</td>\n",
       "      <td>4.000000</td>\n",
       "      <td>0.0</td>\n",
       "      <td>3.0</td>\n",
       "      <td>5.0</td>\n",
       "      <td>2.0</td>\n",
       "      <td>0.0</td>\n",
       "      <td>0</td>\n",
       "    </tr>\n",
       "    <tr>\n",
       "      <th>8375</th>\n",
       "      <td>552</td>\n",
       "      <td>528.0</td>\n",
       "      <td>1</td>\n",
       "      <td>-0.46</td>\n",
       "      <td>0</td>\n",
       "      <td>25.0</td>\n",
       "      <td>-4.0</td>\n",
       "      <td>1.0</td>\n",
       "      <td>1.0</td>\n",
       "      <td>2.0</td>\n",
       "      <td>...</td>\n",
       "      <td>8.000000</td>\n",
       "      <td>5.474559</td>\n",
       "      <td>6.0</td>\n",
       "      <td>5.000000</td>\n",
       "      <td>0.0</td>\n",
       "      <td>3.0</td>\n",
       "      <td>5.0</td>\n",
       "      <td>2.0</td>\n",
       "      <td>0.0</td>\n",
       "      <td>0</td>\n",
       "    </tr>\n",
       "    <tr>\n",
       "      <th>8376</th>\n",
       "      <td>552</td>\n",
       "      <td>529.0</td>\n",
       "      <td>1</td>\n",
       "      <td>0.62</td>\n",
       "      <td>0</td>\n",
       "      <td>25.0</td>\n",
       "      <td>3.0</td>\n",
       "      <td>1.0</td>\n",
       "      <td>1.0</td>\n",
       "      <td>2.0</td>\n",
       "      <td>...</td>\n",
       "      <td>6.777524</td>\n",
       "      <td>5.000000</td>\n",
       "      <td>5.0</td>\n",
       "      <td>5.000000</td>\n",
       "      <td>0.0</td>\n",
       "      <td>3.0</td>\n",
       "      <td>5.0</td>\n",
       "      <td>2.0</td>\n",
       "      <td>0.0</td>\n",
       "      <td>0</td>\n",
       "    </tr>\n",
       "    <tr>\n",
       "      <th>8377</th>\n",
       "      <td>552</td>\n",
       "      <td>530.0</td>\n",
       "      <td>1</td>\n",
       "      <td>0.01</td>\n",
       "      <td>0</td>\n",
       "      <td>25.0</td>\n",
       "      <td>3.0</td>\n",
       "      <td>1.0</td>\n",
       "      <td>1.0</td>\n",
       "      <td>2.0</td>\n",
       "      <td>...</td>\n",
       "      <td>8.000000</td>\n",
       "      <td>1.000000</td>\n",
       "      <td>4.0</td>\n",
       "      <td>5.000000</td>\n",
       "      <td>0.0</td>\n",
       "      <td>3.0</td>\n",
       "      <td>5.0</td>\n",
       "      <td>2.0</td>\n",
       "      <td>0.0</td>\n",
       "      <td>0</td>\n",
       "    </tr>\n",
       "  </tbody>\n",
       "</table>\n",
       "<p>8378 rows × 27 columns</p>\n",
       "</div>"
      ],
      "text/plain": [
       "      iid    pid  gender  int_corr  samerace   age  diff_age  imprace  \\\n",
       "0       1   11.0       0      0.14         0  21.0      -6.0      2.0   \n",
       "1       1   12.0       0      0.54         0  21.0      -1.0      2.0   \n",
       "2       1   13.0       0      0.16         1  21.0      -1.0      2.0   \n",
       "3       1   14.0       0      0.61         0  21.0      -2.0      2.0   \n",
       "4       1   15.0       0      0.21         0  21.0      -3.0      2.0   \n",
       "...   ...    ...     ...       ...       ...   ...       ...      ...   \n",
       "8373  552  526.0       1      0.64         0  25.0      -1.0      1.0   \n",
       "8374  552  527.0       1      0.71         0  25.0       1.0      1.0   \n",
       "8375  552  528.0       1     -0.46         0  25.0      -4.0      1.0   \n",
       "8376  552  529.0       1      0.62         0  25.0       3.0      1.0   \n",
       "8377  552  530.0       1      0.01         0  25.0       3.0      1.0   \n",
       "\n",
       "      imprelig  date  ...       amb      shar  like      prob  met  match_es  \\\n",
       "0          4.0   7.0  ...  6.000000  5.000000   7.0  6.000000  2.0       4.0   \n",
       "1          4.0   7.0  ...  5.000000  6.000000   7.0  5.000000  1.0       4.0   \n",
       "2          4.0   7.0  ...  5.000000  7.000000   7.0  5.207523  1.0       4.0   \n",
       "3          4.0   7.0  ...  6.000000  8.000000   7.0  6.000000  2.0       4.0   \n",
       "4          4.0   7.0  ...  6.000000  6.000000   6.0  6.000000  2.0       4.0   \n",
       "...        ...   ...  ...       ...       ...   ...       ...  ...       ...   \n",
       "8373       1.0   2.0  ...  6.777524  5.474559   2.0  5.000000  0.0       3.0   \n",
       "8374       1.0   2.0  ...  4.000000  5.474559   4.0  4.000000  0.0       3.0   \n",
       "8375       1.0   2.0  ...  8.000000  5.474559   6.0  5.000000  0.0       3.0   \n",
       "8376       1.0   2.0  ...  6.777524  5.000000   5.0  5.000000  0.0       3.0   \n",
       "8377       1.0   2.0  ...  8.000000  1.000000   4.0  5.000000  0.0       3.0   \n",
       "\n",
       "      satis_2  you_call  them_cal  target  \n",
       "0         6.0       1.0       1.0       0  \n",
       "1         6.0       1.0       1.0       0  \n",
       "2         6.0       1.0       1.0       1  \n",
       "3         6.0       1.0       1.0       1  \n",
       "4         6.0       1.0       1.0       1  \n",
       "...       ...       ...       ...     ...  \n",
       "8373      5.0       2.0       0.0       0  \n",
       "8374      5.0       2.0       0.0       0  \n",
       "8375      5.0       2.0       0.0       0  \n",
       "8376      5.0       2.0       0.0       0  \n",
       "8377      5.0       2.0       0.0       0  \n",
       "\n",
       "[8378 rows x 27 columns]"
      ]
     },
     "execution_count": 649,
     "metadata": {},
     "output_type": "execute_result"
    }
   ],
   "source": [
    "my_df"
   ]
  },
  {
   "cell_type": "markdown",
   "metadata": {},
   "source": [
    "Создадим отдельно таблицу с мужчинами и женщинами, и сджойним их."
   ]
  },
  {
   "cell_type": "code",
   "execution_count": 650,
   "metadata": {},
   "outputs": [],
   "source": [
    "df_male = my_df.query('gender == 1').drop(['gender'], axis=1)\n",
    "df_female = my_df.query('gender == 0').drop(['gender', 'target', 'int_corr', 'samerace', 'diff_age'], axis=1)\n",
    "df_female.columns = df_female.columns + '_f'\n",
    "df_male = df_male.rename(columns={'pid': 'iid_f'})\n",
    "df_female = df_female.rename(columns={'pid_f': 'iid'})\n",
    "df_male = df_male.rename(columns={'target_m': 'target'})"
   ]
  },
  {
   "cell_type": "code",
   "execution_count": 651,
   "metadata": {
    "scrolled": false
   },
   "outputs": [
    {
     "data": {
      "text/html": [
       "<div>\n",
       "<style scoped>\n",
       "    .dataframe tbody tr th:only-of-type {\n",
       "        vertical-align: middle;\n",
       "    }\n",
       "\n",
       "    .dataframe tbody tr th {\n",
       "        vertical-align: top;\n",
       "    }\n",
       "\n",
       "    .dataframe thead th {\n",
       "        text-align: right;\n",
       "    }\n",
       "</style>\n",
       "<table border=\"1\" class=\"dataframe\">\n",
       "  <thead>\n",
       "    <tr style=\"text-align: right;\">\n",
       "      <th></th>\n",
       "      <th>iid</th>\n",
       "      <th>iid_f</th>\n",
       "      <th>int_corr</th>\n",
       "      <th>samerace</th>\n",
       "      <th>age</th>\n",
       "      <th>diff_age</th>\n",
       "      <th>imprace</th>\n",
       "      <th>imprelig</th>\n",
       "      <th>date</th>\n",
       "      <th>go_out</th>\n",
       "      <th>...</th>\n",
       "      <th>fun_f</th>\n",
       "      <th>amb_f</th>\n",
       "      <th>shar_f</th>\n",
       "      <th>like_f</th>\n",
       "      <th>prob_f</th>\n",
       "      <th>met_f</th>\n",
       "      <th>match_es_f</th>\n",
       "      <th>satis_2_f</th>\n",
       "      <th>you_call_f</th>\n",
       "      <th>them_cal_f</th>\n",
       "    </tr>\n",
       "  </thead>\n",
       "  <tbody>\n",
       "    <tr>\n",
       "      <th>0</th>\n",
       "      <td>11</td>\n",
       "      <td>1.0</td>\n",
       "      <td>0.14</td>\n",
       "      <td>0</td>\n",
       "      <td>27.0</td>\n",
       "      <td>6.0</td>\n",
       "      <td>7.0</td>\n",
       "      <td>3.0</td>\n",
       "      <td>5.0</td>\n",
       "      <td>4.0</td>\n",
       "      <td>...</td>\n",
       "      <td>7.0</td>\n",
       "      <td>6.0</td>\n",
       "      <td>5.0</td>\n",
       "      <td>7.0</td>\n",
       "      <td>6.0</td>\n",
       "      <td>2.0</td>\n",
       "      <td>4.0</td>\n",
       "      <td>6.00000</td>\n",
       "      <td>1.000000</td>\n",
       "      <td>1.000000</td>\n",
       "    </tr>\n",
       "    <tr>\n",
       "      <th>1</th>\n",
       "      <td>11</td>\n",
       "      <td>2.0</td>\n",
       "      <td>0.29</td>\n",
       "      <td>1</td>\n",
       "      <td>27.0</td>\n",
       "      <td>3.0</td>\n",
       "      <td>7.0</td>\n",
       "      <td>3.0</td>\n",
       "      <td>5.0</td>\n",
       "      <td>4.0</td>\n",
       "      <td>...</td>\n",
       "      <td>4.0</td>\n",
       "      <td>6.0</td>\n",
       "      <td>3.0</td>\n",
       "      <td>6.0</td>\n",
       "      <td>4.0</td>\n",
       "      <td>2.0</td>\n",
       "      <td>3.0</td>\n",
       "      <td>5.00000</td>\n",
       "      <td>0.000000</td>\n",
       "      <td>0.000000</td>\n",
       "    </tr>\n",
       "    <tr>\n",
       "      <th>2</th>\n",
       "      <td>11</td>\n",
       "      <td>3.0</td>\n",
       "      <td>-0.24</td>\n",
       "      <td>1</td>\n",
       "      <td>27.0</td>\n",
       "      <td>2.0</td>\n",
       "      <td>7.0</td>\n",
       "      <td>3.0</td>\n",
       "      <td>5.0</td>\n",
       "      <td>4.0</td>\n",
       "      <td>...</td>\n",
       "      <td>7.0</td>\n",
       "      <td>8.0</td>\n",
       "      <td>9.0</td>\n",
       "      <td>8.0</td>\n",
       "      <td>7.0</td>\n",
       "      <td>1.0</td>\n",
       "      <td>0.0</td>\n",
       "      <td>5.71151</td>\n",
       "      <td>0.780825</td>\n",
       "      <td>0.981631</td>\n",
       "    </tr>\n",
       "    <tr>\n",
       "      <th>3</th>\n",
       "      <td>11</td>\n",
       "      <td>4.0</td>\n",
       "      <td>-0.18</td>\n",
       "      <td>1</td>\n",
       "      <td>27.0</td>\n",
       "      <td>4.0</td>\n",
       "      <td>7.0</td>\n",
       "      <td>3.0</td>\n",
       "      <td>5.0</td>\n",
       "      <td>4.0</td>\n",
       "      <td>...</td>\n",
       "      <td>5.0</td>\n",
       "      <td>8.0</td>\n",
       "      <td>7.0</td>\n",
       "      <td>6.0</td>\n",
       "      <td>7.0</td>\n",
       "      <td>2.0</td>\n",
       "      <td>2.0</td>\n",
       "      <td>4.00000</td>\n",
       "      <td>0.000000</td>\n",
       "      <td>0.000000</td>\n",
       "    </tr>\n",
       "    <tr>\n",
       "      <th>4</th>\n",
       "      <td>11</td>\n",
       "      <td>5.0</td>\n",
       "      <td>-0.43</td>\n",
       "      <td>1</td>\n",
       "      <td>27.0</td>\n",
       "      <td>6.0</td>\n",
       "      <td>7.0</td>\n",
       "      <td>3.0</td>\n",
       "      <td>5.0</td>\n",
       "      <td>4.0</td>\n",
       "      <td>...</td>\n",
       "      <td>2.0</td>\n",
       "      <td>2.0</td>\n",
       "      <td>2.0</td>\n",
       "      <td>7.0</td>\n",
       "      <td>5.0</td>\n",
       "      <td>2.0</td>\n",
       "      <td>0.0</td>\n",
       "      <td>7.00000</td>\n",
       "      <td>0.000000</td>\n",
       "      <td>0.000000</td>\n",
       "    </tr>\n",
       "    <tr>\n",
       "      <th>...</th>\n",
       "      <td>...</td>\n",
       "      <td>...</td>\n",
       "      <td>...</td>\n",
       "      <td>...</td>\n",
       "      <td>...</td>\n",
       "      <td>...</td>\n",
       "      <td>...</td>\n",
       "      <td>...</td>\n",
       "      <td>...</td>\n",
       "      <td>...</td>\n",
       "      <td>...</td>\n",
       "      <td>...</td>\n",
       "      <td>...</td>\n",
       "      <td>...</td>\n",
       "      <td>...</td>\n",
       "      <td>...</td>\n",
       "      <td>...</td>\n",
       "      <td>...</td>\n",
       "      <td>...</td>\n",
       "      <td>...</td>\n",
       "      <td>...</td>\n",
       "    </tr>\n",
       "    <tr>\n",
       "      <th>4179</th>\n",
       "      <td>552</td>\n",
       "      <td>526.0</td>\n",
       "      <td>0.64</td>\n",
       "      <td>0</td>\n",
       "      <td>25.0</td>\n",
       "      <td>-1.0</td>\n",
       "      <td>1.0</td>\n",
       "      <td>1.0</td>\n",
       "      <td>2.0</td>\n",
       "      <td>1.0</td>\n",
       "      <td>...</td>\n",
       "      <td>2.0</td>\n",
       "      <td>6.0</td>\n",
       "      <td>5.0</td>\n",
       "      <td>6.0</td>\n",
       "      <td>1.0</td>\n",
       "      <td>0.0</td>\n",
       "      <td>2.0</td>\n",
       "      <td>3.00000</td>\n",
       "      <td>0.000000</td>\n",
       "      <td>1.000000</td>\n",
       "    </tr>\n",
       "    <tr>\n",
       "      <th>4180</th>\n",
       "      <td>552</td>\n",
       "      <td>527.0</td>\n",
       "      <td>0.71</td>\n",
       "      <td>0</td>\n",
       "      <td>25.0</td>\n",
       "      <td>1.0</td>\n",
       "      <td>1.0</td>\n",
       "      <td>1.0</td>\n",
       "      <td>2.0</td>\n",
       "      <td>1.0</td>\n",
       "      <td>...</td>\n",
       "      <td>3.0</td>\n",
       "      <td>7.0</td>\n",
       "      <td>2.0</td>\n",
       "      <td>2.0</td>\n",
       "      <td>2.0</td>\n",
       "      <td>0.0</td>\n",
       "      <td>0.0</td>\n",
       "      <td>5.00000</td>\n",
       "      <td>0.780825</td>\n",
       "      <td>0.981631</td>\n",
       "    </tr>\n",
       "    <tr>\n",
       "      <th>4181</th>\n",
       "      <td>552</td>\n",
       "      <td>528.0</td>\n",
       "      <td>-0.46</td>\n",
       "      <td>0</td>\n",
       "      <td>25.0</td>\n",
       "      <td>-4.0</td>\n",
       "      <td>1.0</td>\n",
       "      <td>1.0</td>\n",
       "      <td>2.0</td>\n",
       "      <td>1.0</td>\n",
       "      <td>...</td>\n",
       "      <td>2.0</td>\n",
       "      <td>2.0</td>\n",
       "      <td>1.0</td>\n",
       "      <td>2.0</td>\n",
       "      <td>1.0</td>\n",
       "      <td>0.0</td>\n",
       "      <td>2.0</td>\n",
       "      <td>4.00000</td>\n",
       "      <td>0.000000</td>\n",
       "      <td>0.000000</td>\n",
       "    </tr>\n",
       "    <tr>\n",
       "      <th>4182</th>\n",
       "      <td>552</td>\n",
       "      <td>529.0</td>\n",
       "      <td>0.62</td>\n",
       "      <td>0</td>\n",
       "      <td>25.0</td>\n",
       "      <td>3.0</td>\n",
       "      <td>1.0</td>\n",
       "      <td>1.0</td>\n",
       "      <td>2.0</td>\n",
       "      <td>1.0</td>\n",
       "      <td>...</td>\n",
       "      <td>5.0</td>\n",
       "      <td>3.0</td>\n",
       "      <td>6.0</td>\n",
       "      <td>6.0</td>\n",
       "      <td>4.0</td>\n",
       "      <td>0.0</td>\n",
       "      <td>4.0</td>\n",
       "      <td>5.00000</td>\n",
       "      <td>0.000000</td>\n",
       "      <td>0.000000</td>\n",
       "    </tr>\n",
       "    <tr>\n",
       "      <th>4183</th>\n",
       "      <td>552</td>\n",
       "      <td>530.0</td>\n",
       "      <td>0.01</td>\n",
       "      <td>0</td>\n",
       "      <td>25.0</td>\n",
       "      <td>3.0</td>\n",
       "      <td>1.0</td>\n",
       "      <td>1.0</td>\n",
       "      <td>2.0</td>\n",
       "      <td>1.0</td>\n",
       "      <td>...</td>\n",
       "      <td>7.0</td>\n",
       "      <td>7.0</td>\n",
       "      <td>7.0</td>\n",
       "      <td>8.0</td>\n",
       "      <td>5.0</td>\n",
       "      <td>0.0</td>\n",
       "      <td>6.0</td>\n",
       "      <td>8.00000</td>\n",
       "      <td>0.000000</td>\n",
       "      <td>0.000000</td>\n",
       "    </tr>\n",
       "  </tbody>\n",
       "</table>\n",
       "<p>4184 rows × 46 columns</p>\n",
       "</div>"
      ],
      "text/plain": [
       "      iid  iid_f  int_corr  samerace   age  diff_age  imprace  imprelig  date  \\\n",
       "0      11    1.0      0.14         0  27.0       6.0      7.0       3.0   5.0   \n",
       "1      11    2.0      0.29         1  27.0       3.0      7.0       3.0   5.0   \n",
       "2      11    3.0     -0.24         1  27.0       2.0      7.0       3.0   5.0   \n",
       "3      11    4.0     -0.18         1  27.0       4.0      7.0       3.0   5.0   \n",
       "4      11    5.0     -0.43         1  27.0       6.0      7.0       3.0   5.0   \n",
       "...   ...    ...       ...       ...   ...       ...      ...       ...   ...   \n",
       "4179  552  526.0      0.64         0  25.0      -1.0      1.0       1.0   2.0   \n",
       "4180  552  527.0      0.71         0  25.0       1.0      1.0       1.0   2.0   \n",
       "4181  552  528.0     -0.46         0  25.0      -4.0      1.0       1.0   2.0   \n",
       "4182  552  529.0      0.62         0  25.0       3.0      1.0       1.0   2.0   \n",
       "4183  552  530.0      0.01         0  25.0       3.0      1.0       1.0   2.0   \n",
       "\n",
       "      go_out  ...  fun_f  amb_f  shar_f  like_f  prob_f  met_f  match_es_f  \\\n",
       "0        4.0  ...    7.0    6.0     5.0     7.0     6.0    2.0         4.0   \n",
       "1        4.0  ...    4.0    6.0     3.0     6.0     4.0    2.0         3.0   \n",
       "2        4.0  ...    7.0    8.0     9.0     8.0     7.0    1.0         0.0   \n",
       "3        4.0  ...    5.0    8.0     7.0     6.0     7.0    2.0         2.0   \n",
       "4        4.0  ...    2.0    2.0     2.0     7.0     5.0    2.0         0.0   \n",
       "...      ...  ...    ...    ...     ...     ...     ...    ...         ...   \n",
       "4179     1.0  ...    2.0    6.0     5.0     6.0     1.0    0.0         2.0   \n",
       "4180     1.0  ...    3.0    7.0     2.0     2.0     2.0    0.0         0.0   \n",
       "4181     1.0  ...    2.0    2.0     1.0     2.0     1.0    0.0         2.0   \n",
       "4182     1.0  ...    5.0    3.0     6.0     6.0     4.0    0.0         4.0   \n",
       "4183     1.0  ...    7.0    7.0     7.0     8.0     5.0    0.0         6.0   \n",
       "\n",
       "      satis_2_f  you_call_f  them_cal_f  \n",
       "0       6.00000    1.000000    1.000000  \n",
       "1       5.00000    0.000000    0.000000  \n",
       "2       5.71151    0.780825    0.981631  \n",
       "3       4.00000    0.000000    0.000000  \n",
       "4       7.00000    0.000000    0.000000  \n",
       "...         ...         ...         ...  \n",
       "4179    3.00000    0.000000    1.000000  \n",
       "4180    5.00000    0.780825    0.981631  \n",
       "4181    4.00000    0.000000    0.000000  \n",
       "4182    5.00000    0.000000    0.000000  \n",
       "4183    8.00000    0.000000    0.000000  \n",
       "\n",
       "[4184 rows x 46 columns]"
      ]
     },
     "execution_count": 651,
     "metadata": {},
     "output_type": "execute_result"
    }
   ],
   "source": [
    "my_df = pd.merge(df_male, df_female, on=['iid', 'iid_f'])\n",
    "my_df"
   ]
  },
  {
   "cell_type": "code",
   "execution_count": 652,
   "metadata": {},
   "outputs": [],
   "source": [
    "target = np.array(my_df.target)\n",
    "data_df = my_df.drop(['target'], axis=1)\n",
    "data = np.array(data_df)"
   ]
  },
  {
   "cell_type": "markdown",
   "metadata": {},
   "source": [
    "Разбейте датасет на трейн и валидацию. Подберите на валидации оптимальный критерий  информативности. \n",
    "Постройте графики зависимости точности на валидации от глубины дерева, от минимального числа объектов для сплита. \n",
    "Какой максимальной точности удалось достигнуть?"
   ]
  },
  {
   "cell_type": "code",
   "execution_count": 653,
   "metadata": {},
   "outputs": [],
   "source": [
    "X_train, X_test, y_train, y_test = train_test_split(data, target, test_size=0.1, stratify=target)"
   ]
  },
  {
   "cell_type": "code",
   "execution_count": 654,
   "metadata": {},
   "outputs": [
    {
     "data": {
      "text/plain": [
       "1.0"
      ]
     },
     "execution_count": 654,
     "metadata": {},
     "output_type": "execute_result"
    }
   ],
   "source": [
    "my_clf = MyDecisionTreeClassifier(max_depth=6, min_samples_split=2, min_Q_split=0.00001, feature_linspace=50, criterion='entropy')\n",
    "my_clf.fit(X_train, y_train)\n",
    "y_pred = my_clf.predict(X_test)\n",
    "roc_auc_score(y_pred, y_test)"
   ]
  },
  {
   "cell_type": "code",
   "execution_count": 637,
   "metadata": {},
   "outputs": [
    {
     "data": {
      "text/plain": [
       "{0: (0, 31, 0.0),\n",
       " 1: (0, 11, 0.0),\n",
       " 3: (1, 1, 1.0),\n",
       " 4: (1, 0, 1.0),\n",
       " 2: (1, 0, 1.0)}"
      ]
     },
     "execution_count": 637,
     "metadata": {},
     "output_type": "execute_result"
    }
   ],
   "source": [
    "my_clf.tree"
   ]
  },
  {
   "cell_type": "code",
   "execution_count": 638,
   "metadata": {},
   "outputs": [
    {
     "data": {
      "text/plain": [
       "['dec', 'dec_f']"
      ]
     },
     "execution_count": 638,
     "metadata": {},
     "output_type": "execute_result"
    }
   ],
   "source": [
    "features_id, values = my_clf.get_feature_importance()\n",
    "col_names = data_df.columns\n",
    "best_features = list(map(lambda x: col_names[x], features_id))\n",
    "best_features"
   ]
  },
  {
   "cell_type": "markdown",
   "metadata": {},
   "source": [
    "Как и следовало ожидать, пользуясь столбцами dec и dec_f которые отвечают за решение (yes/no) каждого из партнеров, можно выбить скор равный 1, так как целевая переменная match является логическим И переменных отвечающих за решение каждого партнера.\n",
    "\n",
    "Наверняка такое решение не предполагалось, поэтому исключу столбцы dec и dec_f как слишком нечестные и повторю эксперимент.\n",
    "Очевидно если использовать их, то они будут самыми важными и score модели будет гораздо выше. Если оставить хоть один из них, то другие параметры, которые характеризуют отношение человека к партнеру будут не важны, так как мы уже знаем его решение."
   ]
  },
  {
   "cell_type": "code",
   "execution_count": 639,
   "metadata": {},
   "outputs": [],
   "source": [
    "target = np.array(my_df.target)\n",
    "data_df = my_df.drop(['target', 'dec', 'dec_f'], axis=1)\n",
    "data = np.array(data_df)"
   ]
  },
  {
   "cell_type": "markdown",
   "metadata": {},
   "source": [
    "Подберу критерий информативности и высоту дерева на кросс-валидации с использованием метрики ROC-AUC. "
   ]
  },
  {
   "cell_type": "code",
   "execution_count": 640,
   "metadata": {},
   "outputs": [],
   "source": [
    "from sklearn.metrics import roc_auc_score, make_scorer\n",
    "from sklearn.model_selection import cross_val_score\n",
    "import warnings\n",
    "warnings.filterwarnings('ignore')"
   ]
  },
  {
   "cell_type": "code",
   "execution_count": 518,
   "metadata": {},
   "outputs": [
    {
     "name": "stdout",
     "output_type": "stream",
     "text": [
      "CRITERION: error , SCORE: 0.6510448926655051\n",
      "CRITERION: gini , SCORE: 0.6510448926655051\n",
      "CRITERION: entropy , SCORE: 0.6510448926655051\n"
     ]
    }
   ],
   "source": [
    "criterion = ['error', 'gini', 'entropy'] \n",
    "arr = []\n",
    "\n",
    "for c in criterion:\n",
    "    my_clf = MyDecisionTreeClassifier(max_depth=5, min_samples_split=2,\\\n",
    "                                          min_Q_split=0.00001, feature_linspace=50, criterion=c)\n",
    "    my_clf.fit(X_train, y_train)\n",
    "    score = cross_val_score(my_clf, data, target, cv=5, scoring=make_scorer(roc_auc_score)).mean()\n",
    "    print(\"CRITERION:\", c, \", SCORE:\", score)\n",
    "    arr.append(score)"
   ]
  },
  {
   "cell_type": "markdown",
   "metadata": {},
   "source": [
    "Как мы видим, все критерии информативности дают одинаковый результат, так что особой роли этот выбор не играет.\n",
    "Я возьму энтропийный критерий в качестве критерия информативности.\n",
    "\n",
    "Далее подберем оптимальную максимальную высоту дерева, так же на кросс-валидации."
   ]
  },
  {
   "cell_type": "code",
   "execution_count": 502,
   "metadata": {},
   "outputs": [
    {
     "name": "stdout",
     "output_type": "stream",
     "text": [
      "DEPTH: 1 , SCORE: 0.5532602454277838\n",
      "DEPTH: 2 , SCORE: 0.5937788113210342\n",
      "DEPTH: 3 , SCORE: 0.6401252290466715\n",
      "DEPTH: 4 , SCORE: 0.6439850151004898\n",
      "DEPTH: 5 , SCORE: 0.6622004423447623\n",
      "DEPTH: 6 , SCORE: 0.6446308878707835\n",
      "DEPTH: 7 , SCORE: 0.6372366794155045\n",
      "DEPTH: 8 , SCORE: 0.637343805905609\n"
     ]
    }
   ],
   "source": [
    "depth = [1, 2, 3, 4, 5, 6, 7, 8]\n",
    "arr = []\n",
    "\n",
    "for d in depth:\n",
    "    my_clf = MyDecisionTreeClassifier(max_depth=d, min_samples_split=2,\\\n",
    "                                          min_Q_split=0.00001, feature_linspace=50, criterion='entropy')\n",
    "    my_clf.fit(X_train, y_train)\n",
    "    score = cross_val_score(my_clf, data, target, cv=3, scoring=make_scorer(roc_auc_score)).mean()\n",
    "    print(\"DEPTH:\", d, \", SCORE:\", score)\n",
    "    arr.append(score)"
   ]
  },
  {
   "cell_type": "code",
   "execution_count": 503,
   "metadata": {
    "scrolled": true
   },
   "outputs": [
    {
     "data": {
      "text/plain": [
       "[<matplotlib.lines.Line2D at 0x15d6f15dc40>]"
      ]
     },
     "execution_count": 503,
     "metadata": {},
     "output_type": "execute_result"
    },
    {
     "data": {
      "image/png": "[encoded data removed]",
      "text/plain": [
       "<Figure size 1152x360 with 1 Axes>"
      ]
     },
     "metadata": {
      "needs_background": "light"
     },
     "output_type": "display_data"
    }
   ],
   "source": [
    "plt.figure(figsize=(16,5))\n",
    "plt.plot(depth, arr)"
   ]
  },
  {
   "cell_type": "markdown",
   "metadata": {},
   "source": [
    "Как видно из графика оптимальная максимальная высота дерева 5. Её и возьму для финальной модели."
   ]
  },
  {
   "cell_type": "code",
   "execution_count": 621,
   "metadata": {},
   "outputs": [
    {
     "name": "stdout",
     "output_type": "stream",
     "text": [
      "N_SAMPLES: 1 , SCORE: 0.6622004423447623\n",
      "N_SAMPLES: 2 , SCORE: 0.6622004423447623\n",
      "N_SAMPLES: 5 , SCORE: 0.6612904829593719\n",
      "N_SAMPLES: 10 , SCORE: 0.659476041524321\n",
      "N_SAMPLES: 25 , SCORE: 0.6545354719532245\n",
      "N_SAMPLES: 50 , SCORE: 0.652701495951353\n",
      "N_SAMPLES: 75 , SCORE: 0.6426122093878486\n",
      "N_SAMPLES: 100 , SCORE: 0.6419040158249496\n"
     ]
    }
   ],
   "source": [
    "n_samples = [1, 2, 5, 10, 25, 50, 75, 100]\n",
    "arr = []\n",
    "\n",
    "for n in n_samples:\n",
    "    my_clf = MyDecisionTreeClassifier(max_depth=5, min_samples_split=n,\\\n",
    "                                          min_Q_split=0.00001, feature_linspace=50, criterion='entropy')\n",
    "    my_clf.fit(X_train, y_train)\n",
    "    score = cross_val_score(my_clf, data, target, cv=3, scoring=make_scorer(roc_auc_score)).mean()\n",
    "    print(\"N_SAMPLES:\", n, \", SCORE:\", score)\n",
    "    arr.append(score)"
   ]
  },
  {
   "cell_type": "code",
   "execution_count": 623,
   "metadata": {},
   "outputs": [
    {
     "data": {
      "text/plain": [
       "[<matplotlib.lines.Line2D at 0x15d6f8b2e20>]"
      ]
     },
     "execution_count": 623,
     "metadata": {},
     "output_type": "execute_result"
    },
    {
     "data": {
      "image/png": "[encoded data removed]",
      "text/plain": [
       "<Figure size 1152x360 with 1 Axes>"
      ]
     },
     "metadata": {
      "needs_background": "light"
     },
     "output_type": "display_data"
    }
   ],
   "source": [
    "plt.figure(figsize=(16,5))\n",
    "plt.plot(depth, arr)"
   ]
  },
  {
   "cell_type": "markdown",
   "metadata": {},
   "source": [
    "Исходя из результатов кросс-валидации оставлю минимальное число объектов для сплита равным 2"
   ]
  },
  {
   "cell_type": "markdown",
   "metadata": {},
   "source": [
    "Сравню результаты моей модели с sklearn реализацией и всеми нулями."
   ]
  },
  {
   "cell_type": "code",
   "execution_count": 642,
   "metadata": {},
   "outputs": [
    {
     "name": "stdout",
     "output_type": "stream",
     "text": [
      "ALL ZEROS ACCURACY: 0.8353221957040573\n",
      "SKLEARN ACCURACY SCORE: 0.8233890214797136\n",
      "MY ACCURACY SCORE: 0.8591885441527446\n",
      "\n",
      "SKLEARN ROC-AUC SCORE: 0.6806702282661486\n",
      "MY ROC-AUC SCORE: 0.7567343555739743\n"
     ]
    }
   ],
   "source": [
    "X_train, X_test, y_train, y_test = train_test_split(data, target, test_size=0.1, stratify=target)\n",
    "my_clf = MyDecisionTreeClassifier(max_depth=5, min_samples_split=2,\\\n",
    "                                          min_Q_split=0.00001, feature_linspace=50, criterion='entropy')\n",
    "clf = DecisionTreeClassifier(min_samples_split=2)\n",
    "my_clf.fit(X_train, y_train)\n",
    "clf.fit(X_train, y_train)\n",
    "\n",
    "print(\"ALL ZEROS ACCURACY:\", accuracy_score(y_pred=np.zeros(y_test.size), y_true=y_test))\n",
    "print(\"SKLEARN ACCURACY SCORE:\", accuracy_score(y_pred=clf.predict(X_test), y_true=y_test))\n",
    "print(\"MY ACCURACY SCORE:\", accuracy_score(y_pred=my_clf.predict(X_test), y_true=y_test))\n",
    "\n",
    "print(\"\\nSKLEARN ROC-AUC SCORE:\", roc_auc_score(clf.predict(X_test), y_test))\n",
    "print(\"MY ROC-AUC SCORE:\", roc_auc_score(my_clf.predict(X_test), y_test))"
   ]
  },
  {
   "cell_type": "markdown",
   "metadata": {},
   "source": [
    "## Находим самые важные признаки (2 балла)\n",
    "\n"
   ]
  },
  {
   "cell_type": "markdown",
   "metadata": {},
   "source": [
    "По построенному дереву  легко понять, какие признаки лучше всего помогли решить задачу. Часто это бывает нужно  не только  для сокращения размерности в данных, но и для лучшего понимания прикладной задачи. Например, Вы хотите понять, какие признаки стоит еще конструировать -- для этого нужно понимать, какие из текущих лучше всего работают в дереве. "
   ]
  },
  {
   "cell_type": "markdown",
   "metadata": {},
   "source": [
    "Самый простой метод -- посчитать число сплитов, где использовался данные признак. Это не лучший вариант, так как по признаку который принимает всего 2 значения, но который почти точно разделяет выборку, число сплитов будет очень 1, но при этом признак сам очень хороший. \n",
    "В этом задании предлагается для каждого признака считать суммарный gain (в лекции обозначено как Q) при использовании этого признака в сплите. Тогда даже у очень хороших признаков с маленьким число сплитов это значение должно быть довольно высоким.  "
   ]
  },
  {
   "cell_type": "markdown",
   "metadata": {},
   "source": [
    "Реализовать это довольно просто: создаете словарь номер фичи : суммарный гейн и добавляете в нужную фичу каждый раз, когда используете ее при построении дерева. "
   ]
  },
  {
   "cell_type": "markdown",
   "metadata": {},
   "source": [
    "Добавьте функционал, который определяет значения feature importance. Обучите дерево на датасете Speed Dating Data.\n",
    "Выведите 10 главных фичей по важности."
   ]
  },
  {
   "cell_type": "markdown",
   "metadata": {
    "collapsed": true
   },
   "source": [
    "Для того чтобы определить самые важные признаки, проведу множество испытаний и посмотрю какие признаки были в среднем самыми значимыми за все испытания."
   ]
  },
  {
   "cell_type": "code",
   "execution_count": 568,
   "metadata": {},
   "outputs": [
    {
     "name": "stdout",
     "output_type": "stream",
     "text": [
      "MEAN ACCURACY SCORE: 0.8512171837708832\n",
      "MEAN ROC-AUC SCORE: 0.7331642727801722\n"
     ]
    }
   ],
   "source": [
    "N = 50\n",
    "\n",
    "importance = np.zeros(data.shape[1])\n",
    "roc_auc_score_ = np.zeros(N)\n",
    "accuracy_score_ = np.zeros(N)\n",
    "\n",
    "for i in range(N):\n",
    "    X_train, X_test, y_train, y_test = train_test_split(data, target, test_size=0.1, stratify=target)\n",
    "    my_clf = MyDecisionTreeClassifier(max_depth=5, min_samples_split=10,\\\n",
    "                                          min_Q_split=0.00001, feature_linspace=50, criterion='entropy')\n",
    "    my_clf.fit(X_train, y_train)\n",
    "    roc_auc_score_[i] = roc_auc_score(my_clf.predict(X_test), y_test)\n",
    "    accuracy_score_[i] = accuracy_score(my_clf.predict(X_test), y_test)\n",
    "    features_id, values = my_clf.get_feature_importance()\n",
    "    for i in range(features_id.shape[0]):\n",
    "        importance[features_id[i]] += values[i]\n",
    "        \n",
    "print(\"MEAN ACCURACY SCORE:\", accuracy_score_.mean())\n",
    "print(\"MEAN ROC-AUC SCORE:\", roc_auc_score_.mean())"
   ]
  },
  {
   "cell_type": "code",
   "execution_count": 643,
   "metadata": {
    "scrolled": false
   },
   "outputs": [
    {
     "data": {
      "text/plain": [
       "['attr_f',\n",
       " 'them_cal_f',\n",
       " 'fun_f',\n",
       " 'prob',\n",
       " 'like',\n",
       " 'like_f',\n",
       " 'age_f',\n",
       " 'int_corr',\n",
       " 'attr',\n",
       " 'match_es',\n",
       " 'age',\n",
       " 'iid',\n",
       " 'shar',\n",
       " 'imprace',\n",
       " 'fun',\n",
       " 'match_es_f',\n",
       " 'shar_f',\n",
       " 'intel',\n",
       " 'diff_age',\n",
       " 'prob_f',\n",
       " 'amb',\n",
       " 'intel_f',\n",
       " 'imprelig',\n",
       " 'sinc',\n",
       " 'satis_2',\n",
       " 'exphappy_f',\n",
       " 'you_call',\n",
       " 'amb_f',\n",
       " 'imprace_f',\n",
       " 'date_f',\n",
       " 'sinc_f',\n",
       " 'go_out_f',\n",
       " 'satis_2_f',\n",
       " 'date',\n",
       " 'go_out',\n",
       " 'you_call_f',\n",
       " 'them_cal',\n",
       " 'exphappy',\n",
       " 'iid_f',\n",
       " 'imprelig_f',\n",
       " 'met',\n",
       " 'met_f',\n",
       " 'samerace']"
      ]
     },
     "execution_count": 643,
     "metadata": {},
     "output_type": "execute_result"
    }
   ],
   "source": [
    "features = np.argsort(importance)[::-1]\n",
    "col_names = data_df.columns\n",
    "f = []\n",
    "for idx in features:\n",
    "    f.append(col_names[idx])\n",
    "\n",
    "f"
   ]
  },
  {
   "cell_type": "markdown",
   "metadata": {},
   "source": [
    "Можно заметить, что \"парные\" признаки, такие как like like_f, attr attr_f, имеют зачастую близкую важность, что логично, так как они показывают одни и те же характеристики, просто со стороны разных партнеров (парня и девушки соответственно). Выбирая 10 самых важных признаков такие пары буду объединять в один признак, чтобы получить более полную картину. "
   ]
  },
  {
   "cell_type": "markdown",
   "metadata": {},
   "source": [
    "В итоге 10 самых важных признаков по мнению моего алгоритма: \n",
    "\n",
    "'attr' - оценка внешности\n",
    "\n",
    "'them_cal' - сколько человек из попаданий (match) предложили провести свидание \n",
    "\n",
    "'fun' - оценка \"весёлости\" \n",
    "\n",
    "'prob' - оценка человеком вероятности того, что решение партнера было положительным\n",
    "\n",
    "'like' - насколько партнеры понравились друг другу.\n",
    "\n",
    "'age' - возраст \n",
    "\n",
    "'int_corr' - корреляция интересов\n",
    "\n",
    "'match_es' - сколько попаданий (match) произошло по мнению человека\n",
    "\n",
    "'iid' - идентификатор человека\n",
    "\n",
    "'shar' - оценка общих интересов\n"
   ]
  },
  {
   "cell_type": "markdown",
   "metadata": {},
   "source": [
    "## Фидбек (бесценно)"
   ]
  },
  {
   "cell_type": "markdown",
   "metadata": {},
   "source": [
    "* Какие аспекты обучения деревьев решений Вам показались непонятными? Какое место стоит дополнительно объяснить?"
   ]
  },
  {
   "cell_type": "markdown",
   "metadata": {},
   "source": [
    "Осталась не до конца понятна обработка категориальных признаков. "
   ]
  },
  {
   "cell_type": "markdown",
   "metadata": {},
   "source": [
    "### Ваш ответ здесь"
   ]
  },
  {
   "cell_type": "markdown",
   "metadata": {},
   "source": [
    "* Здесь Вы можете оставить отзыв о этой домашней работе или о всем курсе."
   ]
  },
  {
   "cell_type": "markdown",
   "metadata": {},
   "source": [
    "### ВАШ ОТЗЫВ ЗДЕСЬ\n",
    "\n"
   ]
  },
  {
   "cell_type": "code",
   "execution_count": null,
   "metadata": {
    "collapsed": true
   },
   "outputs": [],
   "source": []
  },
  {
   "cell_type": "code",
   "execution_count": null,
   "metadata": {
    "collapsed": true
   },
   "outputs": [],
   "source": []
  }
 ],
 "metadata": {
  "anaconda-cloud": {},
  "kernelspec": {
   "display_name": "Python 3",
   "language": "python",
   "name": "python3"
  },
  "language_info": {
   "codemirror_mode": {
    "name": "ipython",
    "version": 3
   },
   "file_extension": ".py",
   "mimetype": "text/x-python",
   "name": "python",
   "nbconvert_exporter": "python",
   "pygments_lexer": "ipython3",
   "version": "3.8.6"
  }
 },
 "nbformat": 4,
 "nbformat_minor": 2
}
