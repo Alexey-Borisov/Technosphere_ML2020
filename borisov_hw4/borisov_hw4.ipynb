{
 "cells": [
  {
   "cell_type": "markdown",
   "metadata": {},
   "source": [
    "### Алгоритмы интеллектуальной обработки больших объемов данных\n",
    "## Домашнее задание №4 - Градиентный бустинг\n"
   ]
  },
  {
   "cell_type": "markdown",
   "metadata": {},
   "source": [
    "**Общая информация**\n",
    "\n",
    "**Срок сдачи:** 21 декабря 2020, 08:30   \n",
    "**Штраф за опоздание:** -2 балла после 08:30 21 декабря, -4 балла после 08:30 28 декабря, -6 баллов после 08:30 04 янва, -8 баллов после 08:30 11 января.\n",
    "\n",
    "При отправлении ДЗ указывайте фамилию в названии файла Присылать ДЗ необходимо в виде ссылки на свой github репозиторий на почту ml1.sphere@mail.ru с указанием темы в следующем формате:\n",
    "[ML0220, Задание 4] Фамилия Имя. \n",
    "\n",
    "\n",
    "Используйте данный Ipython Notebook при оформлении домашнего задания."
   ]
  },
  {
   "cell_type": "markdown",
   "metadata": {},
   "source": [
    "##  Считаем производные для функций потерь (1 балл)"
   ]
  },
  {
   "cell_type": "markdown",
   "metadata": {},
   "source": [
    "Мы будем реализовать градиентный бустинг для 3 функций потерь:\n",
    "\n",
    "1) MSE  $L(a(x_i), y_i) = (y_i - a(x_i)) ^ 2$\n",
    "\n",
    "2) Экспоненциальная  $L(a(x_i), y_i) = exp( -a(x_i) y_i), y_i \\in \\{-1, 1\\}$\n",
    "\n",
    "3) Логистическая  $L(a(x_i), y_i) = \\log (1 + exp( -a(x_i) y_i)), y_i \\in \\{-1, 1\\}$\n",
    "\n",
    "где $a(x_i)$ предсказание бустинга на итом объекте. \n",
    "\n",
    "Для каждой функции потерь напишите таргет, на который будет настраиваться каждое дерево в бустинге. "
   ]
  },
  {
   "cell_type": "markdown",
   "metadata": {},
   "source": [
    "Для того чтобы найти таргет, необходимо посчитать производные соответсвующих функций потерь, так как таргетом является: $$-\\frac{\\partial L}{\\partial F}(F_{k-1}(x_i), y_i), \\ 0 \\leq i \\leq N$$\n",
    "\n",
    "Для MSE:\n",
    "$$\\frac{\\partial L}{\\partial a}(a(x_i), y_i) = 2 \\cdot (a(x_i) - y_i)$$\n",
    "\n",
    "Для экспоненциальной функции потерь:\n",
    "$$\\frac{\\partial L}{\\partial a}(a(x_i), y_i) = -y_i \\cdot exp( -a(x_i) y_i)$$\n",
    "\n",
    "Для логистической функции потерь:\n",
    "$$\\frac{\\partial L}{\\partial a}(a(x_i), y_i) = \\frac{-y_i \\cdot exp( -a(x_i) y_i)}{1 + exp( -a(x_i) y_i)}$$"
   ]
  },
  {
   "cell_type": "markdown",
   "metadata": {},
   "source": [
    "##  Реализуем градиентный бустинг (3 балла)"
   ]
  },
  {
   "cell_type": "markdown",
   "metadata": {},
   "source": [
    "Реализуйте класс градиентного бустинга для классификации. Ваша реализация бустинга должна работать по точности не более чем на 5 процентов хуже чем GradientBoostingClassifier из sklearn. \n"
   ]
  },
  {
   "cell_type": "markdown",
   "metadata": {},
   "source": [
    "Детали реализации:\n",
    "\n",
    "-- должно поддерживаться 3 функции потерь\n",
    "\n",
    "-- сами базовые алгоритмы(деревья, линейные модели и тп) реализовать не надо, просто возьмите готовые из sklearn\n",
    "\n",
    "-- в качестве функции потерь для построения одного дерева используйте MSE\n",
    "\n",
    "-- шаг в бустинге можно не подбирать, можно брать константный\n",
    "\n",
    "-- можно брать разные модели в качестве инициализации бустинга\n",
    "\n",
    "-- должны поддерживаться следующие параметры:\n",
    "\n",
    "а) число итераций\n",
    "б) размер шага\n",
    "в) процент случайных фичей при построении одного дерева\n",
    "д) процент случайных объектов при построении одного дерева\n",
    "е) параметры базового алгоритма (передавайте через **kwargs)"
   ]
  },
  {
   "cell_type": "code",
   "execution_count": 570,
   "metadata": {},
   "outputs": [],
   "source": [
    "import numpy as np\n",
    "\n",
    "from sklearn.datasets import load_wine\n",
    "from sklearn.ensemble import GradientBoostingClassifier\n",
    "from sklearn.metrics import accuracy_score\n",
    "from sklearn.model_selection import train_test_split\n",
    "from sklearn.tree import DecisionTreeRegressor"
   ]
  },
  {
   "cell_type": "code",
   "execution_count": 964,
   "metadata": {},
   "outputs": [],
   "source": [
    "class MyGradientBoostingClassifier:\n",
    "\n",
    "    def __init__(self, loss='mse', learning_rate=0.1, n_estimators=100, colsample=1, subsample=1, *args, **kwargs):\n",
    "        \"\"\"\n",
    "        loss -- один из 3 лоссов:\n",
    "        learning_rate -- шаг бустинга\n",
    "        n_estimators -- число итераций\n",
    "        colsample -- процент рандомных признаков при обучнеии одного алгоритма\n",
    "        subsample -- процент рандомных объектов при обучнеии одного алгоритма\n",
    "        args, kwargs -- параметры  базовых моделей\n",
    "        \"\"\"\n",
    "        if loss == 'mse':\n",
    "            self.loss = mse\n",
    "        elif loss == 'exp':\n",
    "            self.loss = exp\n",
    "        elif loss == 'log':\n",
    "            self.loss = log\n",
    "        self.learning_rate = learning_rate\n",
    "        self.n_estimators = n_estimators\n",
    "        self.colsample = colsample\n",
    "        self.subsample = subsample\n",
    "        self.args = args\n",
    "        self.kwargs = kwargs\n",
    "        self.ensemble = []\n",
    "    \n",
    "    def fit(self, X, y, base_model, init_model=None):\n",
    "        \"\"\"\n",
    "        X -- объекты для обучения:\n",
    "        y -- таргеты для обучения\n",
    "        base_model -- класс базовых моделей, например sklearn.tree.DecisionTreeRegressor\n",
    "        init_model -- класс для первой модели, если None то берем константу (только для посл задания)\n",
    "        \"\"\"\n",
    "        self.features = np.zeros(self.n_estimators * int(self.colsample * X.shape[1]))\n",
    "        self.features = self.features.reshape(self.n_estimators, -1).astype(int)\n",
    "        model = base_model(*self.args, **self.kwargs)\n",
    "        model.fit(X, y)\n",
    "        self.ensemble.append(model)\n",
    "        for i in range(1, self.n_estimators):\n",
    "            model = base_model(*self.args, **self.kwargs)\n",
    "            arg = np.random.choice(X.shape[0], int(self.subsample * X.shape[0]), replace=False)\n",
    "            self.features[i] = np.random.choice(X.shape[1], int(self.colsample * X.shape[1]), replace=False)\n",
    "            X_train = X[arg]\n",
    "            pred = self.predict(X_train)\n",
    "            y_train = -self.loss(pred, y[arg])\n",
    "            model.fit(X_train[:, self.features[i]], y_train)\n",
    "            self.ensemble.append(model)\n",
    "        \n",
    "    def predict(self, X):\n",
    "        pred = np.zeros(X.shape[0])\n",
    "        pred = self.ensemble[0].predict(X)\n",
    "        for i in range(1, len(self.ensemble)):\n",
    "            pred += self.learning_rate * self.ensemble[i].predict(X[:, self.features[i]])\n",
    "        if self.loss == mse:\n",
    "            pred = pred.astype(int)\n",
    "        else:\n",
    "            pred[pred < 0] = -1\n",
    "            pred[pred >= 0] = 1\n",
    "        return pred\n",
    "\n",
    "    \n",
    "def mse(a, y):\n",
    "    return 2 * (a - y) \n",
    "\n",
    "def exp(a, y):\n",
    "    return -y * np.exp(-a * y)\n",
    "\n",
    "def log(a, y):\n",
    "    return -y * np.exp(-a * y) / (1 + np.exp(-a * y))\n",
    "    "
   ]
  },
  {
   "cell_type": "markdown",
   "metadata": {},
   "source": [
    "Для объективности дефолтные параметры моей модели совпадают с дефолтными параметрами GradientBoostingClassifier"
   ]
  },
  {
   "cell_type": "code",
   "execution_count": 1089,
   "metadata": {},
   "outputs": [],
   "source": [
    "my_clf = MyGradientBoostingClassifier(max_depth=3)\n",
    "clf = GradientBoostingClassifier()"
   ]
  },
  {
   "cell_type": "code",
   "execution_count": 1090,
   "metadata": {},
   "outputs": [],
   "source": [
    "wine = load_wine()\n",
    "X_train, X_test, y_train, y_test = train_test_split(wine.data, wine.target, test_size=0.1, stratify=wine.target)"
   ]
  },
  {
   "cell_type": "code",
   "execution_count": 1091,
   "metadata": {},
   "outputs": [
    {
     "name": "stdout",
     "output_type": "stream",
     "text": [
      "0.8333333333333334\n",
      "0.8888888888888888\n"
     ]
    }
   ],
   "source": [
    "my_clf.fit(X_train, y_train, base_model=DecisionTreeRegressor)\n",
    "clf.fit(X_train, y_train)\n",
    "print(accuracy_score(y_pred=clf.predict(X_test), y_true=y_test))\n",
    "print(accuracy_score(y_pred=my_clf.predict(X_test), y_true=y_test))"
   ]
  },
  {
   "cell_type": "markdown",
   "metadata": {},
   "source": [
    "Для того чтобы убедиться в качестве моей реализации проведу множество тестов"
   ]
  },
  {
   "cell_type": "code",
   "execution_count": 979,
   "metadata": {
    "scrolled": true
   },
   "outputs": [
    {
     "name": "stdout",
     "output_type": "stream",
     "text": [
      "Скор одного DecisionTreeRegressor:  0.9222222222222222\n",
      "Скор моей реализации градиентного бустинга:  0.9305555555555554\n",
      "Скор sklearn реализации градиентного бустинга:  0.9361111111111109\n"
     ]
    }
   ],
   "source": [
    "count = 20\n",
    "score_myboost = np.zeros(count)\n",
    "score = np.zeros(count)\n",
    "score_sklearn = np.zeros(count)\n",
    "\n",
    "for i in range(count):\n",
    "    X_train, X_test, y_train, y_test = train_test_split(wine.data, wine.target, test_size=0.1, stratify=wine.target)\n",
    "    my_clf = MyGradientBoostingClassifier(max_depth=3)\n",
    "    my_clf.fit(X_train, y_train, base_model=DecisionTreeRegressor)\n",
    "    score_myboost[i] = accuracy_score(y_pred=my_clf.predict(X_test), y_true=y_test)\n",
    "    \n",
    "    clf = DecisionTreeRegressor(max_depth=3)\n",
    "    clf.fit(X_train, y_train)\n",
    "    y_pred = clf.predict(X_test).astype(int)\n",
    "    score[i] = accuracy_score(y_pred, y_test)\n",
    "    \n",
    "    clf = GradientBoostingClassifier()\n",
    "    clf.fit(X_train, y_train)\n",
    "    score_sklearn[i] = accuracy_score(y_pred=clf.predict(X_test), y_true=y_test)\n",
    "    \n",
    "print(\"Скор одного DecisionTreeRegressor: \", score.mean())\n",
    "print(\"Скор моей реализации градиентного бустинга: \", score_myboost.mean())\n",
    "print(\"Скор sklearn реализации градиентного бустинга: \", score_sklearn.mean())"
   ]
  },
  {
   "cell_type": "markdown",
   "metadata": {},
   "source": [
    "## Подбираем параметры (2 балла)\n",
    "\n",
    "Давайте попробуем применить Ваш бустинг для предсказаний цены домов в Калифорнии. Чтобы можно было попробовтаь разные функции потерь, переведем по порогу таргет в 2 класса: дорогие и дешевые дома."
   ]
  },
  {
   "cell_type": "markdown",
   "metadata": {},
   "source": [
    "В задании нужно\n",
    "\n",
    "1) Построить график точности в зависимости от числа итераций на валидации.\n",
    "\n",
    "2) Подобрать оптимальные параметры Вашего бустинга на валидации. \n"
   ]
  },
  {
   "cell_type": "code",
   "execution_count": 991,
   "metadata": {},
   "outputs": [],
   "source": [
    "from sklearn.datasets import fetch_california_housing\n",
    "X, y = fetch_california_housing(return_X_y=True)"
   ]
  },
  {
   "cell_type": "code",
   "execution_count": 992,
   "metadata": {},
   "outputs": [
    {
     "name": "stdout",
     "output_type": "stream",
     "text": [
      "(20640, 8) (20640,)\n"
     ]
    }
   ],
   "source": [
    "# Превращаем регрессию в классификацию\n",
    "y = (y > 2.0).astype(int)\n",
    "print(X.shape, y.shape)"
   ]
  },
  {
   "cell_type": "code",
   "execution_count": 811,
   "metadata": {},
   "outputs": [],
   "source": [
    "import matplotlib.pyplot as plt\n",
    "from tqdm import tqdm"
   ]
  },
  {
   "cell_type": "code",
   "execution_count": 996,
   "metadata": {},
   "outputs": [
    {
     "name": "stderr",
     "output_type": "stream",
     "text": [
      "100%|████████████████████████████████████████████████████████████████████████████████████| 9/9 [09:22<00:00, 62.49s/it]\n"
     ]
    }
   ],
   "source": [
    "n_estimators = np.arange(50, 500, 50)\n",
    "scores = np.zeros(n_estimators.shape[0])\n",
    "X_train, X_test, y_train, y_test = train_test_split(X, y, test_size=0.1, stratify=y)\n",
    "\n",
    "for i in tqdm(range(n_estimators.shape[0])):\n",
    "    my_clf = MyGradientBoostingClassifier(loss='mse', n_estimators=n_estimators[i], learning_rate=0.1, max_depth=3)\n",
    "    my_clf.fit(X_train, y_train, base_model=DecisionTreeRegressor)\n",
    "    scores[i] = accuracy_score(y_pred=my_clf.predict(X_test), y_true=y_test)"
   ]
  },
  {
   "cell_type": "markdown",
   "metadata": {},
   "source": [
    "График зависимости точности от числа итераций:"
   ]
  },
  {
   "cell_type": "code",
   "execution_count": 997,
   "metadata": {},
   "outputs": [
    {
     "data": {
      "image/png": "[encoded data removed]",
      "text/plain": [
       "<Figure size 864x432 with 1 Axes>"
      ]
     },
     "metadata": {
      "needs_background": "light"
     },
     "output_type": "display_data"
    }
   ],
   "source": [
    "plt.figure(figsize=(12, 6))\n",
    "plt.plot(n_estimators, scores)\n",
    "plt.show()"
   ]
  },
  {
   "cell_type": "markdown",
   "metadata": {},
   "source": [
    "Возьму число итераций равное 100 и подберу для него наилучшую функцию потерь и значения парметров learning_rate и max_depth для DecisionTreeRegressor."
   ]
  },
  {
   "cell_type": "markdown",
   "metadata": {},
   "source": [
    "Для MSE:"
   ]
  },
  {
   "cell_type": "code",
   "execution_count": null,
   "metadata": {},
   "outputs": [],
   "source": [
    "learning_rates = np.linspace(0.1, 1, 10)\n",
    "scores_mse = np.zeros(learning_rates.shape[0])\n",
    "count = 5\n",
    "\n",
    "for i in range(learning_rates.shape[0]):\n",
    "    for j in range(count):\n",
    "        X_train, X_test, y_train, y_test = train_test_split(X, y, test_size=0.1, stratify=y)\n",
    "        my_clf = MyGradientBoostingClassifier(loss='mse', learning_rate=learning_rates[i], max_depth=3)\n",
    "        my_clf.fit(X_train, y_train, base_model=DecisionTreeRegressor)\n",
    "        scores_mse[i] += accuracy_score(y_pred=my_clf.predict(X_test), y_true=y_test)\n",
    "    scores_mse[i] /= count"
   ]
  },
  {
   "cell_type": "code",
   "execution_count": 983,
   "metadata": {},
   "outputs": [],
   "source": [
    "y[y == 0] = -1"
   ]
  },
  {
   "cell_type": "markdown",
   "metadata": {},
   "source": [
    "Для экспоненциальной функции потерь:"
   ]
  },
  {
   "cell_type": "code",
   "execution_count": 718,
   "metadata": {
    "scrolled": true
   },
   "outputs": [],
   "source": [
    "learning_rates = np.linspace(0.1, 1, 10)\n",
    "scores_exp = np.zeros(learning_rates.shape[0])\n",
    "count = 5\n",
    "\n",
    "for i in range(learning_rates.shape[0]):\n",
    "    for j in range(count):\n",
    "        X_train, X_test, y_train, y_test = train_test_split(X, y, test_size=0.1, stratify=y)\n",
    "        my_clf = MyGradientBoostingClassifier(loss='exp', learning_rate=learning_rates[i], max_depth=3)\n",
    "        my_clf.fit(X_train, y_train, base_model=DecisionTreeRegressor)\n",
    "        scores_exp[i] += accuracy_score(y_pred=my_clf.predict(X_test), y_true=y_test)\n",
    "    scores_exp[i] /= count"
   ]
  },
  {
   "cell_type": "markdown",
   "metadata": {},
   "source": [
    "Для логистической функции потерь:"
   ]
  },
  {
   "cell_type": "code",
   "execution_count": 716,
   "metadata": {},
   "outputs": [],
   "source": [
    "learning_rates = np.linspace(0.1, 1, 10)\n",
    "scores_log = np.zeros(learning_rates.shape[0])\n",
    "count = 5\n",
    "\n",
    "for i in range(learning_rates.shape[0]):\n",
    "    for j in range(count):\n",
    "        X_train, X_test, y_train, y_test = train_test_split(X, y, test_size=0.1, stratify=y)\n",
    "        my_clf = MyGradientBoostingClassifier(loss='log', learning_rate=learning_rates[i], max_depth=3)\n",
    "        my_clf.fit(X_train, y_train, base_model=DecisionTreeRegressor)\n",
    "        scores_log[i] += accuracy_score(y_pred=my_clf.predict(X_test), y_true=y_test)\n",
    "    scores_log[i] /= count"
   ]
  },
  {
   "cell_type": "code",
   "execution_count": 722,
   "metadata": {},
   "outputs": [
    {
     "data": {
      "image/png": "[encoded data removed]",
      "text/plain": [
       "<Figure size 864x432 with 1 Axes>"
      ]
     },
     "metadata": {
      "needs_background": "light"
     },
     "output_type": "display_data"
    }
   ],
   "source": [
    "plt.figure(figsize=(12, 6))\n",
    "plt.plot(learning_rates, scores_mse, label='MSE')\n",
    "plt.plot(learning_rates, scores_exp, label='EXP')\n",
    "plt.plot(learning_rates, scores_log, label='LOG')\n",
    "plt.legend(fontsize=20)\n",
    "plt.show()"
   ]
  },
  {
   "cell_type": "markdown",
   "metadata": {},
   "source": [
    "Исходя из получившихся графиков, буду использовать экспоненциальную функцию потерь. А значение learning_rate возьму равным 0.8"
   ]
  },
  {
   "cell_type": "code",
   "execution_count": 806,
   "metadata": {},
   "outputs": [],
   "source": [
    "depth = np.arange(3, 8)\n",
    "scores = np.zeros(depth.shape[0])\n",
    "count = 5\n",
    "\n",
    "for i in range(depth.shape[0]):\n",
    "    for j in range(count):\n",
    "        X_train, X_test, y_train, y_test = train_test_split(X, y, test_size=0.1, stratify=y)\n",
    "        my_clf = MyGradientBoostingClassifier(loss='exp', learning_rate=0.8, max_depth=depth[i])\n",
    "        my_clf.fit(X_train, y_train, base_model=DecisionTreeRegressor)\n",
    "        scores[i] += accuracy_score(y_pred=my_clf.predict(X_test), y_true=y_test)\n",
    "    scores[i] /= count"
   ]
  },
  {
   "cell_type": "code",
   "execution_count": 808,
   "metadata": {
    "scrolled": false
   },
   "outputs": [
    {
     "data": {
      "image/png": "[encoded data removed]",
      "text/plain": [
       "<Figure size 864x432 with 1 Axes>"
      ]
     },
     "metadata": {
      "needs_background": "light"
     },
     "output_type": "display_data"
    }
   ],
   "source": [
    "plt.figure(figsize=(12, 6))\n",
    "plt.plot(depth, scores)\n",
    "plt.show()"
   ]
  },
  {
   "cell_type": "markdown",
   "metadata": {},
   "source": [
    "Значение max_depth возьму равным 7."
   ]
  },
  {
   "cell_type": "markdown",
   "metadata": {},
   "source": [
    "Осталось подобрать параметры subsample и colsample."
   ]
  },
  {
   "cell_type": "code",
   "execution_count": 945,
   "metadata": {},
   "outputs": [
    {
     "name": "stdout",
     "output_type": "stream",
     "text": [
      "SCORE =  0.6506782945736435 SUBSAMPLE =  0.8 COLSAMPLE =  0.8\n"
     ]
    }
   ],
   "source": [
    "my_clf = MyGradientBoostingClassifier(loss='exp', learning_rate=0.8, max_depth=3)\n",
    "my_clf.fit(X_train, y_train, base_model=DecisionTreeRegressor)\n",
    "pred = my_clf.predict(X_test)\n",
    "print(\"SCORE = \", accuracy_score(pred, y_test), \"SUBSAMPLE = \", s, \"COLSAMPLE = \", c)"
   ]
  },
  {
   "cell_type": "code",
   "execution_count": 985,
   "metadata": {},
   "outputs": [
    {
     "name": "stdout",
     "output_type": "stream",
     "text": [
      "SCORE =  0.8798449612403101 SUBSAMPLE =  0.7 COLSAMPLE =  0.7\n",
      "SCORE =  0.8808139534883721 SUBSAMPLE =  0.8 COLSAMPLE =  0.7\n",
      "SCORE =  0.8783914728682171 SUBSAMPLE =  0.9 COLSAMPLE =  0.7\n",
      "SCORE =  0.8798449612403101 SUBSAMPLE =  1 COLSAMPLE =  0.7\n",
      "SCORE =  0.8788759689922481 SUBSAMPLE =  0.7 COLSAMPLE =  0.8\n",
      "SCORE =  0.877906976744186 SUBSAMPLE =  0.8 COLSAMPLE =  0.8\n",
      "SCORE =  0.8803294573643411 SUBSAMPLE =  0.9 COLSAMPLE =  0.8\n",
      "SCORE =  0.8827519379844961 SUBSAMPLE =  1 COLSAMPLE =  0.8\n",
      "SCORE =  0.8812984496124031 SUBSAMPLE =  0.7 COLSAMPLE =  0.9\n",
      "SCORE =  0.8832364341085271 SUBSAMPLE =  0.8 COLSAMPLE =  0.9\n",
      "SCORE =  0.8817829457364341 SUBSAMPLE =  0.9 COLSAMPLE =  0.9\n",
      "SCORE =  0.8783914728682171 SUBSAMPLE =  1 COLSAMPLE =  0.9\n",
      "SCORE =  0.8832364341085271 SUBSAMPLE =  0.7 COLSAMPLE =  1\n",
      "SCORE =  0.8808139534883721 SUBSAMPLE =  0.8 COLSAMPLE =  1\n",
      "SCORE =  0.873062015503876 SUBSAMPLE =  0.9 COLSAMPLE =  1\n",
      "SCORE =  0.8788759689922481 SUBSAMPLE =  1 COLSAMPLE =  1\n"
     ]
    }
   ],
   "source": [
    "subsample = [0.7, 0.8, 0.9, 1]\n",
    "colsample = [0.7, 0.8, 0.9, 1]\n",
    "X_train, X_test, y_train, y_test = train_test_split(X, y, test_size=0.1, stratify=y)\n",
    "\n",
    "for c in colsample:\n",
    "    for s in subsample:\n",
    "        my_clf = MyGradientBoostingClassifier(loss='exp', subsample=s, colsample=c, learning_rate=0.8, max_depth=7)\n",
    "        my_clf.fit(X_train, y_train, base_model=DecisionTreeRegressor)\n",
    "        pred = my_clf.predict(X_test)\n",
    "        print(\"SCORE = \", accuracy_score(pred, y_test), \"SUBSAMPLE = \", s, \"COLSAMPLE = \", c)"
   ]
  },
  {
   "cell_type": "markdown",
   "metadata": {},
   "source": [
    "Итоговая лучшая модель:"
   ]
  },
  {
   "cell_type": "code",
   "execution_count": 987,
   "metadata": {},
   "outputs": [
    {
     "data": {
      "text/plain": [
       "0.8919573643410853"
      ]
     },
     "execution_count": 987,
     "metadata": {},
     "output_type": "execute_result"
    }
   ],
   "source": [
    "X_train, X_test, y_train, y_test = train_test_split(X, y, test_size=0.1, stratify=y)\n",
    "my_clf = MyGradientBoostingClassifier(loss='exp', n_estimators=400, learning_rate=0.8, max_depth=7, \\\n",
    "                                      subsample=0.8, colsample=0.9)\n",
    "my_clf.fit(X_train, y_train, base_model=DecisionTreeRegressor)\n",
    "pred = my_clf.predict(X_test)\n",
    "accuracy_score(pred, y_test)"
   ]
  },
  {
   "cell_type": "markdown",
   "metadata": {},
   "source": [
    "## BooBag BagBoo (1 балл)\n",
    "\n"
   ]
  },
  {
   "cell_type": "markdown",
   "metadata": {},
   "source": [
    "Попробуем объединить бустинг и бэгинг. Давайте\n",
    "\n",
    "1) в качестве базовой модели брать не дерево решений, а случайный лес (из sklearn)\n",
    "\n",
    "2) обучать N бустингов на бустрапированной выборке, а затем предикт усреднять"
   ]
  },
  {
   "cell_type": "markdown",
   "metadata": {},
   "source": [
    "Попробуйте обе этих стратегии на данных из прошлого задания. Получилось ли улучшить качество? Почему?"
   ]
  },
  {
   "cell_type": "markdown",
   "metadata": {},
   "source": [
    "1)"
   ]
  },
  {
   "cell_type": "code",
   "execution_count": 1001,
   "metadata": {},
   "outputs": [],
   "source": [
    "from sklearn.ensemble import RandomForestRegressor"
   ]
  },
  {
   "cell_type": "code",
   "execution_count": 1068,
   "metadata": {},
   "outputs": [
    {
     "data": {
      "text/plain": [
       "0.8788759689922481"
      ]
     },
     "execution_count": 1068,
     "metadata": {},
     "output_type": "execute_result"
    }
   ],
   "source": [
    "X_train, X_test, y_train, y_test = train_test_split(X, y, test_size=0.1, stratify=y)\n",
    "my_clf = MyGradientBoostingClassifier(loss='exp', n_estimators=50, learning_rate=0.8, max_depth=3)\n",
    "my_clf.fit(X_train, y_train, base_model=RandomForestRegressor)\n",
    "pred = my_clf.predict(X_test)\n",
    "accuracy_score(pred, y_test)"
   ]
  },
  {
   "cell_type": "markdown",
   "metadata": {},
   "source": [
    "Качество не улучшилось. Тот факт, что теперь вместо одного дерева решений используется Random Forest не улучшает модель, потому что хотя на каждой итерации в отдельности скор может быть лучше, итогового прироста качества это не вызовет, так как мы для того и делаем бустинг, чтобы нивелировать ошибки предыдущих моделей. При этом время работы возрастает и приходится уменьшать число шагов бустинга для приемлемого времени работы."
   ]
  },
  {
   "cell_type": "markdown",
   "metadata": {
    "collapsed": true
   },
   "source": [
    "2)"
   ]
  },
  {
   "cell_type": "code",
   "execution_count": 1066,
   "metadata": {},
   "outputs": [
    {
     "data": {
      "text/plain": [
       "0.8968023255813954"
      ]
     },
     "execution_count": 1066,
     "metadata": {},
     "output_type": "execute_result"
    }
   ],
   "source": [
    "subsample = 0.7\n",
    "colsample = 0.7\n",
    "n_trees = 10\n",
    "X_train, X_test, y_train, y_test = train_test_split(X, y, test_size=0.1, stratify=y)\n",
    "pred = np.zeros(y_test.shape[0])\n",
    "for i in range(n_trees):\n",
    "    arg = np.random.choice(X_train.shape[0], int(subsample * X_train.shape[0]), replace=False)\n",
    "    features = np.random.choice(X_train.shape[1], int(colsample * X_train.shape[1]), replace=False)\n",
    "    my_clf = MyGradientBoostingClassifier(loss='exp', n_estimators=100, learning_rate=0.8, max_depth=7)\n",
    "    my_clf.fit(X_train[arg][:, features], y_train[arg], base_model=DecisionTreeRegressor)\n",
    "    pred_p = my_clf.predict(X_test[:, features])\n",
    "    pred += pred_p\n",
    "    \n",
    "pred = (pred / n_trees)\n",
    "pred[pred < 0] = -1\n",
    "pred[pred >= 0] = 1\n",
    "accuracy_score(pred, y_test)"
   ]
  },
  {
   "cell_type": "markdown",
   "metadata": {},
   "source": [
    "А вот такая стратегия позволила увеличить скор. Работает та же идея что и в Random Forest, много моделей голосованием дают итоговое предсказание лучше чем каждая из моделей в отдельности."
   ]
  },
  {
   "cell_type": "markdown",
   "metadata": {
    "collapsed": true
   },
   "source": [
    "## Умная инициализация (1 балл)\n",
    "\n",
    "Попробуйте брать в качестве инициализации бустинга не константу, а какой-то алгоритм и уже от его предикта стартовать итерации бустинга. Попробуйте разные модели из sklearn: линейные модели, рандом форест, svm..\n",
    "\n",
    "Получилось ли улучшить качество? Почему?\n",
    "\n"
   ]
  },
  {
   "cell_type": "code",
   "execution_count": null,
   "metadata": {
    "collapsed": true
   },
   "outputs": [],
   "source": []
  },
  {
   "cell_type": "code",
   "execution_count": null,
   "metadata": {
    "collapsed": true
   },
   "outputs": [],
   "source": []
  },
  {
   "cell_type": "markdown",
   "metadata": {},
   "source": [
    "## Фидбек (бесценно)"
   ]
  },
  {
   "cell_type": "markdown",
   "metadata": {},
   "source": [
    "* Какие аспекты обучения  ансамблей Вам показались непонятными? Какое место стоит дополнительно объяснить?"
   ]
  },
  {
   "cell_type": "markdown",
   "metadata": {},
   "source": [
    "### Ваш ответ здесь"
   ]
  },
  {
   "cell_type": "markdown",
   "metadata": {},
   "source": [
    "* Здесь Вы можете оставить отзыв о этой домашней работе или о всем курсе."
   ]
  },
  {
   "cell_type": "markdown",
   "metadata": {},
   "source": [
    "### ВАШ ОТЗЫВ ЗДЕСЬ\n",
    "\n"
   ]
  },
  {
   "cell_type": "code",
   "execution_count": null,
   "metadata": {
    "collapsed": true
   },
   "outputs": [],
   "source": []
  },
  {
   "cell_type": "code",
   "execution_count": null,
   "metadata": {
    "collapsed": true
   },
   "outputs": [],
   "source": []
  }
 ],
 "metadata": {
  "anaconda-cloud": {},
  "kernelspec": {
   "display_name": "Python 3",
   "language": "python",
   "name": "python3"
  },
  "language_info": {
   "codemirror_mode": {
    "name": "ipython",
    "version": 3
   },
   "file_extension": ".py",
   "mimetype": "text/x-python",
   "name": "python",
   "nbconvert_exporter": "python",
   "pygments_lexer": "ipython3",
   "version": "3.8.6"
  }
 },
 "nbformat": 4,
 "nbformat_minor": 2
}
